{
 "metadata": {
  "name": "",
  "signature": "sha256:d3685e8f58898234eb301c256b343049a8fe20da4f228e3db7b9275f357a97b3"
 },
 "nbformat": 3,
 "nbformat_minor": 0,
 "worksheets": [
  {
   "cells": [
    {
     "cell_type": "code",
     "collapsed": false,
     "input": [
      "from __future__ import print_function\n",
      "import matplotlib.pyplot as plt\n",
      "import numpy as np\n",
      "import tensorflow as tf\n",
      "import math\n",
      "from IPython.display import display, Image\n",
      "from scipy import ndimage\n",
      "import scipy.io as sio\n",
      "from sklearn.cross_validation import train_test_split\n",
      "import random\n",
      "from six.moves import cPickle as pickle\n",
      "from scipy import ndimage\n",
      "import datetime\n",
      "import os"
     ],
     "language": "python",
     "metadata": {},
     "outputs": [],
     "prompt_number": 1
    },
    {
     "cell_type": "code",
     "collapsed": false,
     "input": [
      "test_size = 50\n",
      "image_size = 32\n",
      "num_channels = 1\n",
      "pixel_depth =255.0\n",
      "\n",
      "test_array = np.zeros((test_size, image_size, image_size, num_channels))\n",
      "test_image_loc = {}\n",
      "\n",
      "index_list = random.sample(xrange(len(os.listdir('test_processed'))), test_size)"
     ],
     "language": "python",
     "metadata": {},
     "outputs": [],
     "prompt_number": 7
    },
    {
     "cell_type": "code",
     "collapsed": false,
     "input": [
      "def process_image(image_location):\n",
      "    image_data = ndimage.imread(image_location).astype(float)   \n",
      "    image_data = np.dot(image_data[...,:3], [0.299, 0.587, 0.114]).reshape(image_size,image_size,1)\n",
      "    return (image_data - pixel_depth / 2.0) / pixel_depth    "
     ],
     "language": "python",
     "metadata": {},
     "outputs": [],
     "prompt_number": 8
    },
    {
     "cell_type": "code",
     "collapsed": false,
     "input": [
      "for i in range(test_size):\n",
      "    image_location = 'test_processed'+'/'+os.listdir('test_processed')[index_list[i]]\n",
      "    test_image_loc[i] = image_location\n",
      "    test_array[i,:,:,:] = process_image(image_location)\n",
      "    \n",
      "print(test_array.shape)"
     ],
     "language": "python",
     "metadata": {},
     "outputs": [
      {
       "output_type": "stream",
       "stream": "stdout",
       "text": [
        "(50, 32, 32, 1)\n"
       ]
      }
     ],
     "prompt_number": 9
    },
    {
     "cell_type": "code",
     "collapsed": false,
     "input": [
      "FLAGS_image_size = 32\n",
      "FLAGS_batch_size = test_array.shape[0]\n",
      "FLAGS_patch_size = 5\n",
      "\n",
      "FLAGS_depth1 = 64\n",
      "FLAGS_depth2 = 64\n",
      "FLAGS_depth3 = 64\n",
      "FLAGS_num_labels = 10\n",
      "\n",
      "FLAGS_prob1 = 0.7\n",
      "FLAGS_prob2 = 0.95\n",
      "\n",
      "FLAGS_num_hidden1 = 64\n",
      "\n",
      "FLAGS_num_channels = 1\n",
      "\n",
      "\n",
      "graph = tf.Graph()\n",
      "\n",
      "with graph.as_default():  \n",
      "    \n",
      "    \n",
      "    # INPUT DATA\n",
      "    \n",
      "    tf_train_data = tf.placeholder(\n",
      "        tf.float32, shape=(FLAGS_batch_size, FLAGS_image_size, FLAGS_image_size, FLAGS_num_channels))  \n",
      "      \n",
      "    \n",
      "    # VARIABLES INITIALIZATION (TWO CONVOLUTION LAYERS WITH SHARED WEIGHTS)\n",
      "    \n",
      "    conv_layer1_weights = tf.Variable(tf.truncated_normal(\n",
      "          [FLAGS_patch_size, FLAGS_patch_size, FLAGS_num_channels, FLAGS_depth1], stddev=0.1))\n",
      "    conv_layer1_biases = tf.Variable(tf.zeros([FLAGS_depth1]))\n",
      "    \n",
      "    conv_layer2_weights = tf.Variable(tf.truncated_normal(\n",
      "          [FLAGS_patch_size, FLAGS_patch_size, FLAGS_depth1, FLAGS_depth2], stddev=0.1))\n",
      "    conv_layer2_biases = tf.Variable(tf.constant(1.0, shape=[FLAGS_depth2]))\n",
      "    \n",
      "    conv_layer3_weights = tf.Variable(tf.truncated_normal(\n",
      "          [FLAGS_patch_size, FLAGS_patch_size, FLAGS_depth2, FLAGS_depth3], stddev=0.1))\n",
      "    conv_layer3_biases = tf.Variable(tf.constant(1.0, shape=[FLAGS_depth3]))\n",
      "   \n",
      "    \n",
      "    # VARIABLES INITIALIZATION (FIRST FULLY CONNECTED LAYER WITH NON_SHARED WEIGHTS)\n",
      "    \n",
      "    full_digit0_layer1_weights = tf.Variable(tf.truncated_normal(\n",
      "          [FLAGS_image_size // 4 * FLAGS_image_size // 4 * FLAGS_depth3, FLAGS_num_hidden1], stddev=0.1))\n",
      "    full_digit0_layer1_biases = tf.Variable(tf.constant(1.0, shape=[FLAGS_num_hidden1]))\n",
      "    \n",
      "    full_digit1_layer1_weights = tf.Variable(tf.truncated_normal(\n",
      "          [FLAGS_image_size // 4 * FLAGS_image_size // 4 * FLAGS_depth3, FLAGS_num_hidden1], stddev=0.1))\n",
      "    full_digit1_layer1_biases = tf.Variable(tf.constant(1.0, shape=[FLAGS_num_hidden1]))\n",
      "    \n",
      "    full_digit2_layer1_weights = tf.Variable(tf.truncated_normal(\n",
      "          [FLAGS_image_size // 4 * FLAGS_image_size // 4 * FLAGS_depth3, FLAGS_num_hidden1], stddev=0.1))\n",
      "    full_digit2_layer1_biases = tf.Variable(tf.constant(1.0, shape=[FLAGS_num_hidden1]))\n",
      "    \n",
      "    full_digit3_layer1_weights = tf.Variable(tf.truncated_normal(\n",
      "          [FLAGS_image_size // 4 * FLAGS_image_size // 4 * FLAGS_depth3, FLAGS_num_hidden1], stddev=0.1))\n",
      "    full_digit3_layer1_biases = tf.Variable(tf.constant(1.0, shape=[FLAGS_num_hidden1]))\n",
      "    \n",
      "    full_digit4_layer1_weights = tf.Variable(tf.truncated_normal(\n",
      "          [FLAGS_image_size // 4 * FLAGS_image_size // 4 * FLAGS_depth3, FLAGS_num_hidden1], stddev=0.1))\n",
      "    full_digit4_layer1_biases = tf.Variable(tf.constant(1.0, shape=[FLAGS_num_hidden1]))\n",
      "    \n",
      "    \n",
      "    \n",
      "    # VARIABLES INITIALIZATION (SECOND FULLY CONNECTED LAYER WITH NON_SHARED WEIGHTS)\n",
      "    \n",
      "    full_digit0_layer2_weights = tf.Variable(tf.truncated_normal(\n",
      "          [FLAGS_num_hidden1, FLAGS_num_labels + 1], stddev=0.1))\n",
      "    full_digit0_layer2_biases = tf.Variable(tf.constant(1.0, shape=[FLAGS_num_labels + 1]))\n",
      "    \n",
      "    full_digit1_layer2_weights = tf.Variable(tf.truncated_normal(\n",
      "          [FLAGS_num_hidden1, FLAGS_num_labels + 1], stddev=0.1))\n",
      "    full_digit1_layer2_biases = tf.Variable(tf.constant(1.0, shape=[FLAGS_num_labels + 1]))\n",
      "    \n",
      "    full_digit2_layer2_weights = tf.Variable(tf.truncated_normal(\n",
      "          [FLAGS_num_hidden1, FLAGS_num_labels + 1], stddev=0.1))\n",
      "    full_digit2_layer2_biases = tf.Variable(tf.constant(1.0, shape=[FLAGS_num_labels + 1]))\n",
      "    \n",
      "    full_digit3_layer2_weights = tf.Variable(tf.truncated_normal(\n",
      "          [FLAGS_num_hidden1, FLAGS_num_labels + 1], stddev=0.1))\n",
      "    full_digit3_layer2_biases = tf.Variable(tf.constant(1.0, shape=[FLAGS_num_labels + 1]))\n",
      "    \n",
      "    full_digit4_layer2_weights = tf.Variable(tf.truncated_normal(\n",
      "          [FLAGS_num_hidden1, FLAGS_num_labels + 1], stddev=0.1))\n",
      "    full_digit4_layer2_biases = tf.Variable(tf.constant(1.0, shape=[FLAGS_num_labels + 1]))\n",
      "    \n",
      "    \n",
      "    \n",
      "    \n",
      "      \n",
      "    # MODEL (TWO CONVOLUTIONAL AND TWO FULLY CONNECTED LAYERS)\n",
      "    \n",
      "    def model(data):\n",
      "        \n",
      "        # CONVOLUTION LAYERS\n",
      "        \n",
      "        conv = tf.nn.conv2d(data, conv_layer1_weights, [1, 1, 1, 1], padding='SAME')      #conv\n",
      "        hidden = tf.nn.relu(conv + conv_layer1_biases) \n",
      "        pooled = tf.nn.max_pool(hidden, [1, 2, 2, 1], [1, 2, 2, 1], padding='SAME')       #pool\n",
      "            \n",
      "        conv = tf.nn.conv2d(pooled, conv_layer2_weights, [1, 1, 1, 1], padding='SAME')    #conv\n",
      "        hidden = tf.nn.relu(conv + conv_layer2_biases)\n",
      "        pooled = tf.nn.max_pool(hidden, [1, 2, 2, 1], [1, 2, 2, 1], padding='SAME')       #pool\n",
      "                    \n",
      "        conv = tf.nn.conv2d(pooled, conv_layer3_weights, [1, 1, 1, 1], padding='SAME')    #conv\n",
      "        hidden = tf.nn.relu(conv + conv_layer3_biases)\n",
      "        \n",
      "        shape = hidden.get_shape().as_list()        \n",
      "        reshape = tf.reshape(hidden, [shape[0], shape[1] * shape[2] * shape[3]])\n",
      "        \n",
      "        \n",
      "        # FULLY CONNECTED LAYERS FOR ALL DIGITS\n",
      "        \n",
      "        hidden = tf.nn.relu(tf.matmul(reshape, full_digit0_layer1_weights) + full_digit0_layer1_biases)\n",
      "        digit_0 = tf.matmul(hidden, full_digit0_layer2_weights) + full_digit0_layer2_biases          \n",
      "        \n",
      "        hidden = tf.nn.relu(tf.matmul(reshape, full_digit1_layer1_weights) + full_digit1_layer1_biases) \n",
      "        digit_1 = tf.matmul(hidden, full_digit1_layer2_weights) + full_digit1_layer2_biases          \n",
      "        \n",
      "        hidden = tf.nn.relu(tf.matmul(reshape, full_digit2_layer1_weights) + full_digit2_layer1_biases)     \n",
      "        digit_2 = tf.matmul(hidden, full_digit2_layer2_weights) + full_digit2_layer2_biases          \n",
      "        \n",
      "        hidden = tf.nn.relu(tf.matmul(reshape, full_digit3_layer1_weights) + full_digit3_layer1_biases)\n",
      "        digit_3 = tf.matmul(hidden, full_digit3_layer2_weights) + full_digit3_layer2_biases          \n",
      "        \n",
      "        hidden = tf.nn.relu(tf.matmul(reshape, full_digit4_layer1_weights) + full_digit4_layer1_biases)   \n",
      "        digit_4 = tf.matmul(hidden, full_digit4_layer2_weights) + full_digit4_layer2_biases          \n",
      "              \n",
      "        return [digit_0, digit_1, digit_2, digit_3, digit_4]\n",
      "    \n",
      "    \n",
      "    \n",
      "    def softmax_joiner(logits):      \n",
      "        \n",
      "        return tf.transpose(tf.pack([tf.nn.softmax(logits[0]), tf.nn.softmax(logits[1]), \\\n",
      "                                     tf.nn.softmax(logits[2]), tf.nn.softmax(logits[3]), \\\n",
      "                                     tf.nn.softmax(logits[4])]), perm = [1,0,2])\n",
      "    \n",
      "  \n",
      "    # PREDICTIONS\n",
      "    \n",
      "    logits = model(tf_train_data)       \n",
      "    \n",
      "    test_prediction = softmax_joiner(logits)      "
     ],
     "language": "python",
     "metadata": {},
     "outputs": [],
     "prompt_number": 10
    },
    {
     "cell_type": "code",
     "collapsed": false,
     "input": [
      "with tf.Session(graph=graph) as sess:\n",
      "    saver = tf.train.Saver()\n",
      "    saver.restore(sess, \"/home/shilpak/ML_Playground/deep-learning-capstone/model1.ckpt\")\n",
      "    print(\"Model restored.\")\n",
      "    \n",
      "    feed_dict = {tf_train_data : test_array}\n",
      "    predictions = sess.run(test_prediction, feed_dict=feed_dict)\n",
      "    label_array = np.argmax(predictions, axis =2)\n",
      "    for i in range(test_size):\n",
      "        display(Image(filename=test_image_loc[i]))\n",
      "        house_number = ''\n",
      "        for j in range(5):\n",
      "            if label_array[i][j] < 10:\n",
      "                house_number = house_number+str(label_array[i][j])\n",
      "        print(house_number)"
     ],
     "language": "python",
     "metadata": {},
     "outputs": [
      {
       "output_type": "stream",
       "stream": "stdout",
       "text": [
        "Model restored.\n"
       ]
      },
      {
       "metadata": {},
       "output_type": "display_data",
       "png": "[encoded data removed]",
       "text": [
        "<IPython.core.display.Image at 0x7f8db8eda450>"
       ]
      },
      {
       "output_type": "stream",
       "stream": "stdout",
       "text": [
        "73\n"
       ]
      },
      {
       "metadata": {},
       "output_type": "display_data",
       "png": "[encoded data removed]",
       "text": [
        "<IPython.core.display.Image at 0x7f8db8060d10>"
       ]
      },
      {
       "output_type": "stream",
       "stream": "stdout",
       "text": [
        "142\n"
       ]
      },
      {
       "metadata": {},
       "output_type": "display_data",
       "png": "[encoded data removed]",
       "text": [
        "<IPython.core.display.Image at 0x7f8dbcf4a1d0>"
       ]
      },
      {
       "output_type": "stream",
       "stream": "stdout",
       "text": [
        "19\n"
       ]
      },
      {
       "metadata": {},
       "output_type": "display_data",
       "png": "[encoded data removed]",
       "text": [
        "<IPython.core.display.Image at 0x7f8db80bd950>"
       ]
      },
      {
       "output_type": "stream",
       "stream": "stdout",
       "text": [
        "69\n"
       ]
      },
      {
       "metadata": {},
       "output_type": "display_data",
       "png": "[encoded data removed]",
       "text": [
        "<IPython.core.display.Image at 0x7f8db804f810>"
       ]
      },
      {
       "output_type": "stream",
       "stream": "stdout",
       "text": [
        "46\n"
       ]
      },
      {
       "metadata": {},
       "output_type": "display_data",
       "png": "[encoded data removed]",
       "text": [
        "<IPython.core.display.Image at 0x7f8d93f85050>"
       ]
      },
      {
       "output_type": "stream",
       "stream": "stdout",
       "text": [
        "140\n"
       ]
      },
      {
       "metadata": {},
       "output_type": "display_data",
       "png": "[encoded data removed]",
       "text": [
        "<IPython.core.display.Image at 0x7f8d93f85150>"
       ]
      },
      {
       "output_type": "stream",
       "stream": "stdout",
       "text": [
        "23\n"
       ]
      },
      {
       "metadata": {},
       "output_type": "display_data",
       "png": "[encoded data removed]",
       "text": [
        "<IPython.core.display.Image at 0x7f8db80408d0>"
       ]
      },
      {
       "output_type": "stream",
       "stream": "stdout",
       "text": [
        "2\n"
       ]
      },
      {
       "metadata": {},
       "output_type": "display_data",
       "png": "[encoded data removed]",
       "text": [
        "<IPython.core.display.Image at 0x7f8db8040c50>"
       ]
      },
      {
       "output_type": "stream",
       "stream": "stdout",
       "text": [
        "82\n"
       ]
      },
      {
       "metadata": {},
       "output_type": "display_data",
       "png": "[encoded data removed]",
       "text": [
        "<IPython.core.display.Image at 0x7f8dbcfbb550>"
       ]
      },
      {
       "output_type": "stream",
       "stream": "stdout",
       "text": [
        "19\n"
       ]
      },
      {
       "metadata": {},
       "output_type": "display_data",
       "png": "[encoded data removed]",
       "text": [
        "<IPython.core.display.Image at 0x7f8dbcf5ce50>"
       ]
      },
      {
       "output_type": "stream",
       "stream": "stdout",
       "text": [
        "6\n"
       ]
      },
      {
       "metadata": {},
       "output_type": "display_data",
       "png": "[encoded data removed]",
       "text": [
        "<IPython.core.display.Image at 0x7f8dbcf5c090>"
       ]
      },
      {
       "output_type": "stream",
       "stream": "stdout",
       "text": [
        "2\n"
       ]
      },
      {
       "metadata": {},
       "output_type": "display_data",
       "png": "[encoded data removed]",
       "text": [
        "<IPython.core.display.Image at 0x7f8dbcf8a190>"
       ]
      },
      {
       "output_type": "stream",
       "stream": "stdout",
       "text": [
        "234\n"
       ]
      },
      {
       "metadata": {},
       "output_type": "display_data",
       "png": "[encoded data removed]",
       "text": [
        "<IPython.core.display.Image at 0x7f8dbcf8a2d0>"
       ]
      },
      {
       "output_type": "stream",
       "stream": "stdout",
       "text": [
        "2\n"
       ]
      },
      {
       "metadata": {},
       "output_type": "display_data",
       "png": "[encoded data removed]",
       "text": [
        "<IPython.core.display.Image at 0x7f8dbcf8a290>"
       ]
      },
      {
       "output_type": "stream",
       "stream": "stdout",
       "text": [
        "42\n"
       ]
      },
      {
       "metadata": {},
       "output_type": "display_data",
       "png": "[encoded data removed]",
       "text": [
        "<IPython.core.display.Image at 0x7f8dbcf8a390>"
       ]
      },
      {
       "output_type": "stream",
       "stream": "stdout",
       "text": [
        "14\n"
       ]
      },
      {
       "metadata": {},
       "output_type": "display_data",
       "png": "[encoded data removed]",
       "text": [
        "<IPython.core.display.Image at 0x7f8dbcf8a250>"
       ]
      },
      {
       "output_type": "stream",
       "stream": "stdout",
       "text": [
        "79\n"
       ]
      },
      {
       "metadata": {},
       "output_type": "display_data",
       "png": "[encoded data removed]",
       "text": [
        "<IPython.core.display.Image at 0x7f8dbcf8a150>"
       ]
      },
      {
       "output_type": "stream",
       "stream": "stdout",
       "text": [
        "9\n"
       ]
      },
      {
       "metadata": {},
       "output_type": "display_data",
       "png": "[encoded data removed]",
       "text": [
        "<IPython.core.display.Image at 0x7f8dbcf8a110>"
       ]
      },
      {
       "output_type": "stream",
       "stream": "stdout",
       "text": [
        "18\n"
       ]
      },
      {
       "metadata": {},
       "output_type": "display_data",
       "png": "[encoded data removed]",
       "text": [
        "<IPython.core.display.Image at 0x7f8dbcf8a1d0>"
       ]
      },
      {
       "output_type": "stream",
       "stream": "stdout",
       "text": [
        "27\n"
       ]
      },
      {
       "metadata": {},
       "output_type": "display_data",
       "png": "[encoded data removed]",
       "text": [
        "<IPython.core.display.Image at 0x7f8dbcf8a310>"
       ]
      },
      {
       "output_type": "stream",
       "stream": "stdout",
       "text": [
        "5\n"
       ]
      },
      {
       "metadata": {},
       "output_type": "display_data",
       "png": "[encoded data removed]",
       "text": [
        "<IPython.core.display.Image at 0x7f8dbcf8a490>"
       ]
      },
      {
       "output_type": "stream",
       "stream": "stdout",
       "text": [
        "5\n"
       ]
      },
      {
       "metadata": {},
       "output_type": "display_data",
       "png": "[encoded data removed]",
       "text": [
        "<IPython.core.display.Image at 0x7f8dbcf8ac50>"
       ]
      },
      {
       "output_type": "stream",
       "stream": "stdout",
       "text": [
        "57\n"
       ]
      },
      {
       "metadata": {},
       "output_type": "display_data",
       "png": "[encoded data removed]",
       "text": [
        "<IPython.core.display.Image at 0x7f8dbcf8aa50>"
       ]
      },
      {
       "output_type": "stream",
       "stream": "stdout",
       "text": [
        "3\n"
       ]
      },
      {
       "metadata": {},
       "output_type": "display_data",
       "png": "[encoded data removed]",
       "text": [
        "<IPython.core.display.Image at 0x7f8dbcf8a090>"
       ]
      },
      {
       "output_type": "stream",
       "stream": "stdout",
       "text": [
        "82\n"
       ]
      },
      {
       "metadata": {},
       "output_type": "display_data",
       "png": "[encoded data removed]",
       "text": [
        "<IPython.core.display.Image at 0x7f8dbcf8a210>"
       ]
      },
      {
       "output_type": "stream",
       "stream": "stdout",
       "text": [
        "21\n"
       ]
      },
      {
       "metadata": {},
       "output_type": "display_data",
       "png": "[encoded data removed]",
       "text": [
        "<IPython.core.display.Image at 0x7f8dbcffc1d0>"
       ]
      },
      {
       "output_type": "stream",
       "stream": "stdout",
       "text": [
        "20\n"
       ]
      },
      {
       "metadata": {},
       "output_type": "display_data",
       "png": "[encoded data removed]",
       "text": [
        "<IPython.core.display.Image at 0x7f8dbcffce10>"
       ]
      },
      {
       "output_type": "stream",
       "stream": "stdout",
       "text": [
        "26\n"
       ]
      },
      {
       "metadata": {},
       "output_type": "display_data",
       "png": "[encoded data removed]",
       "text": [
        "<IPython.core.display.Image at 0x7f8dbcffce90>"
       ]
      },
      {
       "output_type": "stream",
       "stream": "stdout",
       "text": [
        "29\n"
       ]
      },
      {
       "metadata": {},
       "output_type": "display_data",
       "png": "[encoded data removed]",
       "text": [
        "<IPython.core.display.Image at 0x7f8dbcffcf10>"
       ]
      },
      {
       "output_type": "stream",
       "stream": "stdout",
       "text": [
        "87\n"
       ]
      },
      {
       "metadata": {},
       "output_type": "display_data",
       "png": "[encoded data removed]",
       "text": [
        "<IPython.core.display.Image at 0x7f8dbcffcdd0>"
       ]
      },
      {
       "output_type": "stream",
       "stream": "stdout",
       "text": [
        "259\n"
       ]
      },
      {
       "metadata": {},
       "output_type": "display_data",
       "png": "[encoded data removed]",
       "text": [
        "<IPython.core.display.Image at 0x7f8dbcffcc10>"
       ]
      },
      {
       "output_type": "stream",
       "stream": "stdout",
       "text": [
        "27\n"
       ]
      },
      {
       "metadata": {},
       "output_type": "display_data",
       "png": "[encoded data removed]",
       "text": [
        "<IPython.core.display.Image at 0x7f8dbcffcc50>"
       ]
      },
      {
       "output_type": "stream",
       "stream": "stdout",
       "text": [
        "10\n"
       ]
      },
      {
       "metadata": {},
       "output_type": "display_data",
       "png": "[encoded data removed]",
       "text": [
        "<IPython.core.display.Image at 0x7f8dbcf8a210>"
       ]
      },
      {
       "output_type": "stream",
       "stream": "stdout",
       "text": [
        "36\n"
       ]
      },
      {
       "metadata": {},
       "output_type": "display_data",
       "png": "[encoded data removed]",
       "text": [
        "<IPython.core.display.Image at 0x7f8dbcf8aa50>"
       ]
      },
      {
       "output_type": "stream",
       "stream": "stdout",
       "text": [
        "10\n"
       ]
      },
      {
       "metadata": {},
       "output_type": "display_data",
       "png": "[encoded data removed]",
       "text": [
        "<IPython.core.display.Image at 0x7f8dbcf8a090>"
       ]
      },
      {
       "output_type": "stream",
       "stream": "stdout",
       "text": [
        "57\n"
       ]
      },
      {
       "metadata": {},
       "output_type": "display_data",
       "png": "[encoded data removed]",
       "text": [
        "<IPython.core.display.Image at 0x7f8dbcf8a110>"
       ]
      },
      {
       "output_type": "stream",
       "stream": "stdout",
       "text": [
        "66\n"
       ]
      },
      {
       "metadata": {},
       "output_type": "display_data",
       "png": "[encoded data removed]",
       "text": [
        "<IPython.core.display.Image at 0x7f8dbcf8a490>"
       ]
      },
      {
       "output_type": "stream",
       "stream": "stdout",
       "text": [
        "312\n"
       ]
      },
      {
       "metadata": {},
       "output_type": "display_data",
       "png": "[encoded data removed]",
       "text": [
        "<IPython.core.display.Image at 0x7f8dbcf8a390>"
       ]
      },
      {
       "output_type": "stream",
       "stream": "stdout",
       "text": [
        "28\n"
       ]
      },
      {
       "metadata": {},
       "output_type": "display_data",
       "png": "[encoded data removed]",
       "text": [
        "<IPython.core.display.Image at 0x7f8dbcf8a290>"
       ]
      },
      {
       "output_type": "stream",
       "stream": "stdout",
       "text": [
        "36\n"
       ]
      },
      {
       "metadata": {},
       "output_type": "display_data",
       "png": "[encoded data removed]",
       "text": [
        "<IPython.core.display.Image at 0x7f8dbcfbb550>"
       ]
      },
      {
       "output_type": "stream",
       "stream": "stdout",
       "text": [
        "40\n"
       ]
      },
      {
       "metadata": {},
       "output_type": "display_data",
       "png": "[encoded data removed]",
       "text": [
        "<IPython.core.display.Image at 0x7f8dbcf8a2d0>"
       ]
      },
      {
       "output_type": "stream",
       "stream": "stdout",
       "text": [
        "19\n"
       ]
      },
      {
       "metadata": {},
       "output_type": "display_data",
       "png": "[encoded data removed]",
       "text": [
        "<IPython.core.display.Image at 0x7f8dbcf8a190>"
       ]
      },
      {
       "output_type": "stream",
       "stream": "stdout",
       "text": [
        "6\n"
       ]
      },
      {
       "metadata": {},
       "output_type": "display_data",
       "png": "[encoded data removed]",
       "text": [
        "<IPython.core.display.Image at 0x7f8dbcf8ac50>"
       ]
      },
      {
       "output_type": "stream",
       "stream": "stdout",
       "text": [
        "53\n"
       ]
      },
      {
       "metadata": {},
       "output_type": "display_data",
       "png": "[encoded data removed]",
       "text": [
        "<IPython.core.display.Image at 0x7f8dbcf8a150>"
       ]
      },
      {
       "output_type": "stream",
       "stream": "stdout",
       "text": [
        "77\n"
       ]
      },
      {
       "metadata": {},
       "output_type": "display_data",
       "png": "[encoded data removed]",
       "text": [
        "<IPython.core.display.Image at 0x7f8dbcf8a310>"
       ]
      },
      {
       "output_type": "stream",
       "stream": "stdout",
       "text": [
        "21\n"
       ]
      },
      {
       "metadata": {},
       "output_type": "display_data",
       "png": "[encoded data removed]",
       "text": [
        "<IPython.core.display.Image at 0x7f8db804f810>"
       ]
      },
      {
       "output_type": "stream",
       "stream": "stdout",
       "text": [
        "12\n"
       ]
      },
      {
       "metadata": {},
       "output_type": "display_data",
       "png": "[encoded data removed]",
       "text": [
        "<IPython.core.display.Image at 0x7f8dbcf8a250>"
       ]
      },
      {
       "output_type": "stream",
       "stream": "stdout",
       "text": [
        "1\n"
       ]
      },
      {
       "metadata": {},
       "output_type": "display_data",
       "png": "[encoded data removed]",
       "text": [
        "<IPython.core.display.Image at 0x7f8dbcf8a1d0>"
       ]
      },
      {
       "output_type": "stream",
       "stream": "stdout",
       "text": [
        "35\n"
       ]
      },
      {
       "metadata": {},
       "output_type": "display_data",
       "png": "[encoded data removed]",
       "text": [
        "<IPython.core.display.Image at 0x7f8db80bd950>"
       ]
      },
      {
       "output_type": "stream",
       "stream": "stdout",
       "text": [
        "16\n"
       ]
      }
     ],
     "prompt_number": 13
    },
    {
     "cell_type": "code",
     "collapsed": false,
     "input": [],
     "language": "python",
     "metadata": {},
     "outputs": []
    },
    {
     "cell_type": "code",
     "collapsed": false,
     "input": [],
     "language": "python",
     "metadata": {},
     "outputs": []
    }
   ],
   "metadata": {}
  }
 ]
}