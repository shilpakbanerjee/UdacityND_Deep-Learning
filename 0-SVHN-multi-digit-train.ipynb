{
 "metadata": {
  "name": "",
  "signature": "sha256:ec22b4e11fbc05c8f23e22f02361e7ff3e87d168a44457db705280d2546fc330"
 },
 "nbformat": 3,
 "nbformat_minor": 0,
 "worksheets": [
  {
   "cells": [
    {
     "cell_type": "code",
     "collapsed": false,
     "input": [
      "from __future__ import print_function\n",
      "import matplotlib.pyplot as plt\n",
      "import numpy as np\n",
      "import tensorflow as tf\n",
      "import math\n",
      "from IPython.display import display, Image\n",
      "from scipy import ndimage\n",
      "import scipy.io as sio\n",
      "from sklearn.cross_validation import train_test_split\n",
      "import random\n",
      "from six.moves import cPickle as pickle\n",
      "from PIL import Image\n",
      "from scipy import ndimage\n",
      "import datetime"
     ],
     "language": "python",
     "metadata": {},
     "outputs": [],
     "prompt_number": 1
    },
    {
     "cell_type": "code",
     "collapsed": false,
     "input": [
      "with open('train_processed.pickle', 'rb') as f:\n",
      "    train_data = pickle.load(f)\n",
      "    print(train_data.shape)\n",
      "    \n",
      "with open('train_processed_labels.pickle', 'rb') as f:\n",
      "    train_labels = pickle.load(f)\n",
      "    print(train_labels.shape)"
     ],
     "language": "python",
     "metadata": {},
     "outputs": [
      {
       "output_type": "stream",
       "stream": "stdout",
       "text": [
        "(33401, 32, 32, 1)\n",
        "(33401, 7)\n"
       ]
      }
     ],
     "prompt_number": 2
    },
    {
     "cell_type": "code",
     "collapsed": false,
     "input": [
      "with open('test_processed.pickle', 'rb') as f:\n",
      "    test_data = pickle.load(f)\n",
      "    print(test_data.shape)\n",
      "    \n",
      "with open('test_processed_labels.pickle', 'rb') as f:\n",
      "    test_labels = pickle.load(f)\n",
      "    print(test_labels.shape)"
     ],
     "language": "python",
     "metadata": {},
     "outputs": [
      {
       "output_type": "stream",
       "stream": "stdout",
       "text": [
        "(13067, 32, 32, 1)\n",
        "(13067, 7)\n"
       ]
      }
     ],
     "prompt_number": 3
    },
    {
     "cell_type": "code",
     "collapsed": false,
     "input": [
      "with open('extra_processed.pickle', 'rb') as f:\n",
      "    extra_data = pickle.load(f)\n",
      "    print(extra_data.shape)\n",
      "    \n",
      "with open('extra_processed_labels.pickle', 'rb') as f:\n",
      "    extra_labels = pickle.load(f)\n",
      "    print(extra_labels.shape)"
     ],
     "language": "python",
     "metadata": {},
     "outputs": [
      {
       "output_type": "stream",
       "stream": "stdout",
       "text": [
        "(202352, 32, 32, 1)\n",
        "(202352, 7)\n"
       ]
      }
     ],
     "prompt_number": 4
    },
    {
     "cell_type": "code",
     "collapsed": false,
     "input": [
      "# JOINING THE IMAGES FROM THE TRAINING SET AND THE EXTRA SET INTO ONE LARGE TRAINING SET\n",
      "\n",
      "FLAGS_n = -1   # CHANGE TO THE NUMBER OF IMAGES TO BE USED FROM THE EXTRA SET\n",
      "\n",
      "def randomize(dataset, labels):\n",
      "    permutation = np.random.permutation(labels.shape[0])\n",
      "    shuffled_dataset = dataset[permutation,:,:]\n",
      "    shuffled_labels = labels[permutation,:]\n",
      "    return shuffled_dataset, shuffled_labels\n",
      "\n",
      "train_data = np.append(train_data, extra_data[:FLAGS_n,:,:], axis = 0)\n",
      "train_labels = np.append(train_labels, extra_labels[:FLAGS_n,:], axis = 0)\n",
      "\n",
      "del extra_data\n",
      "del extra_labels\n",
      "\n",
      "train_data, train_labels = randomize(train_data, train_labels)"
     ],
     "language": "python",
     "metadata": {},
     "outputs": [],
     "prompt_number": 5
    },
    {
     "cell_type": "code",
     "collapsed": false,
     "input": [
      "# SPLIT DATA INTO TRAINING AND VALIDATION SETS\n",
      "\n",
      "FLAGS_val_size = 5000.0 / np.float32(train_data.shape[0])\n",
      "train_data, val_data, train_labels, val_labels = train_test_split(\n",
      "    train_data, train_labels, test_size = FLAGS_val_size, random_state=42)"
     ],
     "language": "python",
     "metadata": {},
     "outputs": [],
     "prompt_number": 6
    },
    {
     "cell_type": "code",
     "collapsed": false,
     "input": [
      "# USE 10.0 TO DENOTE ABSENCE OF A DIGIT.\n",
      "\n",
      "FLAGS_num_labels = 10\n",
      "\n",
      "def process_labels(labels):\n",
      "    np.place(labels,labels==10.0, 0.0)\n",
      "    np.place(labels,labels==-1.0, 10.0)\n",
      "    return\n",
      "\n",
      "process_labels(train_labels)\n",
      "process_labels(test_labels)\n",
      "process_labels(val_labels)"
     ],
     "language": "python",
     "metadata": {},
     "outputs": [],
     "prompt_number": 7
    },
    {
     "cell_type": "code",
     "collapsed": false,
     "input": [
      "# DISPLAY A FEW DITITS ANF THEIR LABELS TO MAKE SURE EVERYTHING IS STILL OK AFTER ALL THE PROCESSING\n",
      "\n",
      "n_test_display  = 0\n",
      "n_train_display = 0\n",
      "n_val_display   = 0\n",
      "\n",
      "for i in range(n_train_display):\n",
      "    j = random.randrange(np.shape(train_data)[0])\n",
      "    plt.imshow(train_data[j].reshape(32,32), cmap = 'Greys_r')\n",
      "    plt.title(train_labels[j])\n",
      "    plt.show()\n",
      "    \n",
      "\n",
      "for i in range(n_test_display):\n",
      "    j = random.randrange(np.shape(test_data)[0])\n",
      "    plt.imshow(test_data[j].reshape(32,32), cmap = 'Greys_r')\n",
      "    plt.title(test_labels[j])\n",
      "    plt.show()\n",
      "    \n",
      "\n",
      "for i in range(n_val_display):\n",
      "    j = random.randrange(np.shape(val_data)[0])\n",
      "    plt.imshow(val_data[j].reshape(32,32), cmap = 'Greys_r')\n",
      "    plt.title(val_labels[j])\n",
      "    plt.show()"
     ],
     "language": "python",
     "metadata": {},
     "outputs": [],
     "prompt_number": 10
    },
    {
     "cell_type": "code",
     "collapsed": false,
     "input": [
      "# CHECK SHAPE AND SIZES \n",
      "\n",
      "print('Shape of the training image dataset:', train_data.shape)\n",
      "print('Shape of the training label set:', train_labels.shape)\n",
      "print('Shape of the validation image dataset:', val_data.shape)\n",
      "print('Shape of the validation label set:', val_labels.shape)\n",
      "print('Shape of the test image dataset:', test_data.shape)\n",
      "print('Shape of the test label set:', test_labels.shape)"
     ],
     "language": "python",
     "metadata": {},
     "outputs": [
      {
       "output_type": "stream",
       "stream": "stdout",
       "text": [
        "Shape of the training image dataset: (230752, 32, 32, 1)\n",
        "Shape of the training label set: (230752, 7)\n",
        "Shape of the validation image dataset: (5000, 32, 32, 1)\n",
        "Shape of the validation label set: (5000, 7)\n",
        "Shape of the test image dataset: (13067, 32, 32, 1)\n",
        "Shape of the test label set: (13067, 7)\n"
       ]
      }
     ],
     "prompt_number": 11
    },
    {
     "cell_type": "code",
     "collapsed": false,
     "input": [
      "# CONVERT TO ONE HOT LABELLING FORMAT\n",
      "\n",
      "def one_hot_label(labels):\n",
      "     return (np.arange(FLAGS_num_labels + 1) == labels[:,None]).astype(np.float32).reshape(-1, 5, 11)\n",
      "\n",
      "\n",
      "train_1hot_labels = one_hot_label(train_labels[:,:5].reshape(-1,))\n",
      "val_1hot_labels = one_hot_label(val_labels[:,:5].reshape(-1,))\n",
      "test_1hot_labels = one_hot_label(test_labels[:,:5].reshape(-1,))\n",
      "\n",
      "#del train_labels\n",
      "#del val_labels \n",
      "#del test_labels"
     ],
     "language": "python",
     "metadata": {},
     "outputs": [],
     "prompt_number": 12
    },
    {
     "cell_type": "code",
     "collapsed": false,
     "input": [
      "# CHECK SHAPES AND SIZES AGAIN\n",
      "\n",
      "print('Shape of the training image dataset:', train_data.shape)\n",
      "print('Shape of the training label set:', train_1hot_labels.shape)\n",
      "print('Shape of the validation image dataset:', val_data.shape)\n",
      "print('Shape of the validation label set:', val_1hot_labels.shape)\n",
      "print('Shape of the test image dataset:', test_data.shape)\n",
      "print('Shape of the test label set:', test_1hot_labels.shape)\n",
      "\n",
      "FLAGS_train_size = train_data.shape[0]\n",
      "FLAGS_val_size   = val_data.shape[0]\n",
      "FLAGS_test_size  = test_data.shape[0]"
     ],
     "language": "python",
     "metadata": {},
     "outputs": [
      {
       "output_type": "stream",
       "stream": "stdout",
       "text": [
        "Shape of the training image dataset: (230752, 32, 32, 1)\n",
        "Shape of the training label set: (230752, 5, 11)\n",
        "Shape of the validation image dataset: (5000, 32, 32, 1)\n",
        "Shape of the validation label set: (5000, 5, 11)\n",
        "Shape of the test image dataset: (13067, 32, 32, 1)\n",
        "Shape of the test label set: (13067, 5, 11)\n"
       ]
      }
     ],
     "prompt_number": 13
    },
    {
     "cell_type": "code",
     "collapsed": false,
     "input": [
      "# DISPLAY A FEW IMAGES WITH ONE HOT LABELS\n",
      "\n",
      "n_test_display  = 0\n",
      "n_train_display = 0\n",
      "n_val_display   = 0\n",
      "\n",
      "\n",
      "for i in range(n_train_display):\n",
      "    j = random.randrange(np.shape(train_data)[0])\n",
      "    plt.imshow(train_data[j].reshape(32,32), cmap = 'Greys_r')\n",
      "    plt.title(train_1hot_labels[j])\n",
      "    plt.show()\n",
      "    \n",
      "\n",
      "for i in range(n_test_display):\n",
      "    j = random.randrange(np.shape(test_data)[0])\n",
      "    plt.imshow(test_data[j].reshape(32,32), cmap = 'Greys_r')\n",
      "    plt.title(test_1hot_labels[j])\n",
      "    plt.show()\n",
      "    \n",
      "\n",
      "for i in range(n_val_display):\n",
      "    j = random.randrange(np.shape(val_data)[0])\n",
      "    plt.imshow(val_data[j].reshape(32,32), cmap = 'Greys_r')\n",
      "    plt.title(val_1hot_labels[j])\n",
      "    plt.show()"
     ],
     "language": "python",
     "metadata": {},
     "outputs": [],
     "prompt_number": 16
    },
    {
     "cell_type": "code",
     "collapsed": false,
     "input": [
      "# COMPUTE ACCURACY\n",
      "\n",
      "FLAGS_digits_checked = 5 # NUMBER OF DIGITS TO CHECK. MAX FIVE.\n",
      "\n",
      "def accuracy(predictions, labels):\n",
      "    truth_table = np.zeros((predictions.shape[0],FLAGS_digits_checked))\n",
      "    for i in range(FLAGS_digits_checked):\n",
      "        truth_table[:,i] = np.argmax(predictions[:,i,:], 1) == np.argmax(labels[:,i,:], 1)\n",
      "    return (100 * np.sum(np.amin(truth_table, axis = 1))/predictions.shape[0])"
     ],
     "language": "python",
     "metadata": {},
     "outputs": [],
     "prompt_number": 17
    },
    {
     "cell_type": "code",
     "collapsed": false,
     "input": [
      "# BUILDING THE GRAPH\n",
      "\n",
      "FLAGS_image_size = 32\n",
      "FLAGS_batch_size = 64\n",
      "FLAGS_patch_size = 5\n",
      "\n",
      "FLAGS_depth1 = 64\n",
      "FLAGS_depth2 = 64\n",
      "FLAGS_depth3 = 64\n",
      "\n",
      "FLAGS_prob1 = 0.7\n",
      "FLAGS_prob2 = 0.95\n",
      "\n",
      "FLAGS_num_hidden1 = 64\n",
      "\n",
      "FLAGS_num_channels = 1\n",
      "\n",
      "\n",
      "graph = tf.Graph()\n",
      "\n",
      "with graph.as_default():  \n",
      "    \n",
      "    \n",
      "    # INPUT DATA\n",
      "    \n",
      "    tf_train_data = tf.placeholder(\n",
      "        tf.float32, shape=(FLAGS_batch_size, FLAGS_image_size, FLAGS_image_size, FLAGS_num_channels))\n",
      "    \n",
      "    tf_train_labels = tf.placeholder(tf.float32, shape=(FLAGS_batch_size, 5, FLAGS_num_labels + 1))\n",
      "        \n",
      "    \n",
      "    tf_val_data0 = tf.constant(val_data[0 * (FLAGS_val_size/10): 1 * (FLAGS_val_size/10) ,: ,: ,: ].astype(np.float32))\n",
      "    tf_val_data1 = tf.constant(val_data[1 * (FLAGS_val_size/10): 2 * (FLAGS_val_size/10) ,: ,: ,: ].astype(np.float32))\n",
      "    tf_val_data2 = tf.constant(val_data[2 * (FLAGS_val_size/10): 3 * (FLAGS_val_size/10) ,: ,: ,: ].astype(np.float32))\n",
      "    tf_val_data3 = tf.constant(val_data[3 * (FLAGS_val_size/10): 4 * (FLAGS_val_size/10) ,: ,: ,: ].astype(np.float32))\n",
      "    tf_val_data4 = tf.constant(val_data[4 * (FLAGS_val_size/10): 5 * (FLAGS_val_size/10) ,: ,: ,: ].astype(np.float32))\n",
      "    tf_val_data5 = tf.constant(val_data[5 * (FLAGS_val_size/10): 6 * (FLAGS_val_size/10) ,: ,: ,: ].astype(np.float32))\n",
      "    tf_val_data6 = tf.constant(val_data[6 * (FLAGS_val_size/10): 7 * (FLAGS_val_size/10) ,: ,: ,: ].astype(np.float32))\n",
      "    tf_val_data7 = tf.constant(val_data[7 * (FLAGS_val_size/10): 8 * (FLAGS_val_size/10) ,: ,: ,: ].astype(np.float32))\n",
      "    tf_val_data8 = tf.constant(val_data[8 * (FLAGS_val_size/10): 9 * (FLAGS_val_size/10) ,: ,: ,: ].astype(np.float32))\n",
      "    tf_val_data9 = tf.constant(val_data[9 * (FLAGS_val_size/10):10 * (FLAGS_val_size/10) ,: ,: ,: ].astype(np.float32))\n",
      "        \n",
      "    \n",
      "    tf_test_data0 = tf.constant(test_data[0 * (FLAGS_test_size/10): 1 * (FLAGS_test_size/10) ,: ,: ,: ].astype(np.float32))\n",
      "    tf_test_data1 = tf.constant(test_data[1 * (FLAGS_test_size/10): 2 * (FLAGS_test_size/10) ,: ,: ,: ].astype(np.float32))\n",
      "    tf_test_data2 = tf.constant(test_data[2 * (FLAGS_test_size/10): 3 * (FLAGS_test_size/10) ,: ,: ,: ].astype(np.float32))\n",
      "    tf_test_data3 = tf.constant(test_data[3 * (FLAGS_test_size/10): 4 * (FLAGS_test_size/10) ,: ,: ,: ].astype(np.float32))\n",
      "    tf_test_data4 = tf.constant(test_data[4 * (FLAGS_test_size/10): 5 * (FLAGS_test_size/10) ,: ,: ,: ].astype(np.float32))\n",
      "    tf_test_data5 = tf.constant(test_data[5 * (FLAGS_test_size/10): 6 * (FLAGS_test_size/10) ,: ,: ,: ].astype(np.float32))\n",
      "    tf_test_data6 = tf.constant(test_data[6 * (FLAGS_test_size/10): 7 * (FLAGS_test_size/10) ,: ,: ,: ].astype(np.float32))\n",
      "    tf_test_data7 = tf.constant(test_data[7 * (FLAGS_test_size/10): 8 * (FLAGS_test_size/10) ,: ,: ,: ].astype(np.float32))\n",
      "    tf_test_data8 = tf.constant(test_data[8 * (FLAGS_test_size/10): 9 * (FLAGS_test_size/10) ,: ,: ,: ].astype(np.float32))\n",
      "    tf_test_data9 = tf.constant(test_data[9 * (FLAGS_test_size/10):10 * (FLAGS_test_size/10) ,: ,: ,: ].astype(np.float32))\n",
      "    \n",
      "    \n",
      "    # VARIABLES INITIALIZATION (TWO CONVOLUTION LAYERS WITH SHARED WEIGHTS)\n",
      "    \n",
      "    conv_layer1_weights = tf.Variable(tf.truncated_normal(\n",
      "          [FLAGS_patch_size, FLAGS_patch_size, FLAGS_num_channels, FLAGS_depth1], stddev=0.1))\n",
      "    conv_layer1_biases = tf.Variable(tf.zeros([FLAGS_depth1]))\n",
      "    \n",
      "    conv_layer2_weights = tf.Variable(tf.truncated_normal(\n",
      "          [FLAGS_patch_size, FLAGS_patch_size, FLAGS_depth1, FLAGS_depth2], stddev=0.1))\n",
      "    conv_layer2_biases = tf.Variable(tf.constant(1.0, shape=[FLAGS_depth2]))\n",
      "    \n",
      "    conv_layer3_weights = tf.Variable(tf.truncated_normal(\n",
      "          [FLAGS_patch_size, FLAGS_patch_size, FLAGS_depth2, FLAGS_depth3], stddev=0.1))\n",
      "    conv_layer3_biases = tf.Variable(tf.constant(1.0, shape=[FLAGS_depth3]))\n",
      "   \n",
      "    \n",
      "    # VARIABLES INITIALIZATION (FIRST FULLY CONNECTED LAYER WITH NON_SHARED WEIGHTS)\n",
      "    \n",
      "    full_digit0_layer1_weights = tf.Variable(tf.truncated_normal(\n",
      "          [FLAGS_image_size // 4 * FLAGS_image_size // 4 * FLAGS_depth3, FLAGS_num_hidden1], stddev=0.1))\n",
      "    full_digit0_layer1_biases = tf.Variable(tf.constant(1.0, shape=[FLAGS_num_hidden1]))\n",
      "    \n",
      "    full_digit1_layer1_weights = tf.Variable(tf.truncated_normal(\n",
      "          [FLAGS_image_size // 4 * FLAGS_image_size // 4 * FLAGS_depth3, FLAGS_num_hidden1], stddev=0.1))\n",
      "    full_digit1_layer1_biases = tf.Variable(tf.constant(1.0, shape=[FLAGS_num_hidden1]))\n",
      "    \n",
      "    full_digit2_layer1_weights = tf.Variable(tf.truncated_normal(\n",
      "          [FLAGS_image_size // 4 * FLAGS_image_size // 4 * FLAGS_depth3, FLAGS_num_hidden1], stddev=0.1))\n",
      "    full_digit2_layer1_biases = tf.Variable(tf.constant(1.0, shape=[FLAGS_num_hidden1]))\n",
      "    \n",
      "    full_digit3_layer1_weights = tf.Variable(tf.truncated_normal(\n",
      "          [FLAGS_image_size // 4 * FLAGS_image_size // 4 * FLAGS_depth3, FLAGS_num_hidden1], stddev=0.1))\n",
      "    full_digit3_layer1_biases = tf.Variable(tf.constant(1.0, shape=[FLAGS_num_hidden1]))\n",
      "    \n",
      "    full_digit4_layer1_weights = tf.Variable(tf.truncated_normal(\n",
      "          [FLAGS_image_size // 4 * FLAGS_image_size // 4 * FLAGS_depth3, FLAGS_num_hidden1], stddev=0.1))\n",
      "    full_digit4_layer1_biases = tf.Variable(tf.constant(1.0, shape=[FLAGS_num_hidden1]))\n",
      "    \n",
      "    \n",
      "    \n",
      "    # VARIABLES INITIALIZATION (SECOND FULLY CONNECTED LAYER WITH NON_SHARED WEIGHTS)\n",
      "    \n",
      "    full_digit0_layer2_weights = tf.Variable(tf.truncated_normal(\n",
      "          [FLAGS_num_hidden1, FLAGS_num_labels + 1], stddev=0.1))\n",
      "    full_digit0_layer2_biases = tf.Variable(tf.constant(1.0, shape=[FLAGS_num_labels + 1]))\n",
      "    \n",
      "    full_digit1_layer2_weights = tf.Variable(tf.truncated_normal(\n",
      "          [FLAGS_num_hidden1, FLAGS_num_labels + 1], stddev=0.1))\n",
      "    full_digit1_layer2_biases = tf.Variable(tf.constant(1.0, shape=[FLAGS_num_labels + 1]))\n",
      "    \n",
      "    full_digit2_layer2_weights = tf.Variable(tf.truncated_normal(\n",
      "          [FLAGS_num_hidden1, FLAGS_num_labels + 1], stddev=0.1))\n",
      "    full_digit2_layer2_biases = tf.Variable(tf.constant(1.0, shape=[FLAGS_num_labels + 1]))\n",
      "    \n",
      "    full_digit3_layer2_weights = tf.Variable(tf.truncated_normal(\n",
      "          [FLAGS_num_hidden1, FLAGS_num_labels + 1], stddev=0.1))\n",
      "    full_digit3_layer2_biases = tf.Variable(tf.constant(1.0, shape=[FLAGS_num_labels + 1]))\n",
      "    \n",
      "    full_digit4_layer2_weights = tf.Variable(tf.truncated_normal(\n",
      "          [FLAGS_num_hidden1, FLAGS_num_labels + 1], stddev=0.1))\n",
      "    full_digit4_layer2_biases = tf.Variable(tf.constant(1.0, shape=[FLAGS_num_labels + 1]))\n",
      "    \n",
      "    \n",
      "    # OTHER VARIABLES\n",
      "    \n",
      "    global_step = tf.Variable(0)\n",
      "    \n",
      "      \n",
      "    # MODEL (TWO CONVOLUTIONAL AND TWO FULLY CONNECTED LAYERS)\n",
      "    \n",
      "    def model(data):\n",
      "        \n",
      "        # CONVOLUTION LAYERS\n",
      "        \n",
      "        conv = tf.nn.conv2d(data, conv_layer1_weights, [1, 1, 1, 1], padding='SAME')      #conv\n",
      "        hidden = tf.nn.relu(conv + conv_layer1_biases) \n",
      "        pooled = tf.nn.max_pool(hidden, [1, 2, 2, 1], [1, 2, 2, 1], padding='SAME')       #pool\n",
      "            \n",
      "        conv = tf.nn.conv2d(pooled, conv_layer2_weights, [1, 1, 1, 1], padding='SAME')    #conv\n",
      "        hidden = tf.nn.relu(conv + conv_layer2_biases)\n",
      "        pooled = tf.nn.max_pool(hidden, [1, 2, 2, 1], [1, 2, 2, 1], padding='SAME')       #pool\n",
      "                    \n",
      "        conv = tf.nn.conv2d(pooled, conv_layer3_weights, [1, 1, 1, 1], padding='SAME')    #conv\n",
      "        hidden = tf.nn.relu(conv + conv_layer3_biases)\n",
      "        hidden = tf.nn.dropout(hidden, FLAGS_prob1)\n",
      "        #pooled = tf.nn.max_pool(hidden, [1, 2, 2, 1], [1, 2, 2, 1], padding='SAME')       #pool\n",
      "               \n",
      "        shape = hidden.get_shape().as_list()        \n",
      "        reshape = tf.reshape(hidden, [shape[0], shape[1] * shape[2] * shape[3]])\n",
      "        \n",
      "        \n",
      "        # FULLY CONNECTED LAYERS FOR ALL DIGITS\n",
      "        \n",
      "        hidden = tf.nn.relu(tf.matmul(reshape, full_digit0_layer1_weights) + full_digit0_layer1_biases)\n",
      "        hidden = tf.nn.dropout(hidden, FLAGS_prob2)\n",
      "        digit_0 = tf.matmul(hidden, full_digit0_layer2_weights) + full_digit0_layer2_biases          \n",
      "        \n",
      "        hidden = tf.nn.relu(tf.matmul(reshape, full_digit1_layer1_weights) + full_digit1_layer1_biases) \n",
      "        hidden = tf.nn.dropout(hidden, FLAGS_prob2)\n",
      "        digit_1 = tf.matmul(hidden, full_digit1_layer2_weights) + full_digit1_layer2_biases          \n",
      "        \n",
      "        hidden = tf.nn.relu(tf.matmul(reshape, full_digit2_layer1_weights) + full_digit2_layer1_biases)     \n",
      "        hidden = tf.nn.dropout(hidden, FLAGS_prob2)\n",
      "        digit_2 = tf.matmul(hidden, full_digit2_layer2_weights) + full_digit2_layer2_biases          \n",
      "        \n",
      "        hidden = tf.nn.relu(tf.matmul(reshape, full_digit3_layer1_weights) + full_digit3_layer1_biases)\n",
      "        hidden = tf.nn.dropout(hidden, FLAGS_prob2)\n",
      "        digit_3 = tf.matmul(hidden, full_digit3_layer2_weights) + full_digit3_layer2_biases          \n",
      "        \n",
      "        hidden = tf.nn.relu(tf.matmul(reshape, full_digit4_layer1_weights) + full_digit4_layer1_biases)   \n",
      "        hidden = tf.nn.dropout(hidden, FLAGS_prob2)\n",
      "        digit_4 = tf.matmul(hidden, full_digit4_layer2_weights) + full_digit4_layer2_biases          \n",
      "              \n",
      "        return [digit_0, digit_1, digit_2, digit_3, digit_4]\n",
      "    \n",
      "    \n",
      "    \n",
      "    def softmax_joiner(logits):      \n",
      "        \n",
      "        return tf.transpose(tf.pack([tf.nn.softmax(logits[0]), tf.nn.softmax(logits[1]), \\\n",
      "                                     tf.nn.softmax(logits[2]), tf.nn.softmax(logits[3]), \\\n",
      "                                     tf.nn.softmax(logits[4])]), perm = [1,0,2])\n",
      "    \n",
      "  \n",
      "    # PREDICTIONS\n",
      "    \n",
      "    logits = model(tf_train_data) \n",
      "    \n",
      "    \n",
      "        \n",
      "    # LOSS FUNCTION\n",
      "    \n",
      "    loss = tf.reduce_mean(tf.nn.softmax_cross_entropy_with_logits(logits[0], tf_train_labels[:,0,:])) + \\\n",
      "           tf.reduce_mean(tf.nn.softmax_cross_entropy_with_logits(logits[1], tf_train_labels[:,1,:])) + \\\n",
      "           tf.reduce_mean(tf.nn.softmax_cross_entropy_with_logits(logits[2], tf_train_labels[:,2,:])) + \\\n",
      "           tf.reduce_mean(tf.nn.softmax_cross_entropy_with_logits(logits[3], tf_train_labels[:,3,:])) + \\\n",
      "           tf.reduce_mean(tf.nn.softmax_cross_entropy_with_logits(logits[4], tf_train_labels[:,4,:]))\n",
      "    \n",
      "    \n",
      "    # OPTIMIZING LOSS \n",
      "    \n",
      "    learning_rate = tf.train.exponential_decay(0.01, global_step, 1000, 0.9)\n",
      "    \n",
      "    optimizer = tf.train.GradientDescentOptimizer(learning_rate).minimize(loss)   # Use 0.001\n",
      "  \n",
      "    # PREDICTION FOR MINIBATCH TRAINING DATA\n",
      "    \n",
      "    train_prediction = softmax_joiner(logits)  \n",
      "                \n",
      "    \n",
      "    #PREDICTION FOR VALIDATION DATA   \n",
      "    \n",
      "    val_prediction0 = softmax_joiner(model(tf_val_data0))\n",
      "    val_prediction1 = softmax_joiner(model(tf_val_data1))\n",
      "    val_prediction2 = softmax_joiner(model(tf_val_data2))\n",
      "    val_prediction3 = softmax_joiner(model(tf_val_data3))\n",
      "    val_prediction4 = softmax_joiner(model(tf_val_data4))\n",
      "    val_prediction5 = softmax_joiner(model(tf_val_data5))\n",
      "    val_prediction6 = softmax_joiner(model(tf_val_data6))\n",
      "    val_prediction7 = softmax_joiner(model(tf_val_data7))\n",
      "    val_prediction8 = softmax_joiner(model(tf_val_data8))\n",
      "    val_prediction9 = softmax_joiner(model(tf_val_data9))\n",
      "    \n",
      "    #PREDICTION FOR TEST DATA\n",
      "    \n",
      "    test_prediction0 = softmax_joiner(model(tf_test_data0))\n",
      "    test_prediction1 = softmax_joiner(model(tf_test_data1))\n",
      "    test_prediction2 = softmax_joiner(model(tf_test_data2))\n",
      "    test_prediction3 = softmax_joiner(model(tf_test_data3))\n",
      "    test_prediction4 = softmax_joiner(model(tf_test_data4))\n",
      "    test_prediction5 = softmax_joiner(model(tf_test_data5))\n",
      "    test_prediction6 = softmax_joiner(model(tf_test_data6))\n",
      "    test_prediction7 = softmax_joiner(model(tf_test_data7))\n",
      "    test_prediction8 = softmax_joiner(model(tf_test_data8))\n",
      "    test_prediction9 = softmax_joiner(model(tf_test_data9))"
     ],
     "language": "python",
     "metadata": {},
     "outputs": [],
     "prompt_number": 29
    },
    {
     "cell_type": "code",
     "collapsed": false,
     "input": [
      "# RUNNING THE ITERATIONS\n",
      "\n",
      "FLAGS_max_steps = 100001 #use 4001\n",
      "\n",
      "with tf.Session(graph=graph) as sess:\n",
      "    \n",
      "    init = tf.initialize_all_variables()\n",
      "    sess.run(init)\n",
      "    print(\"Initialized all variables\")\n",
      "    saver = tf.train.Saver()\n",
      "    \n",
      "    for step in range(FLAGS_max_steps):\n",
      "        \n",
      "        offset = (step * FLAGS_batch_size) % (FLAGS_train_size - FLAGS_batch_size)\n",
      "    \n",
      "        # MINIBATCH\n",
      "        \n",
      "        batch_data = train_data[offset:(offset + FLAGS_batch_size), :, :, :]\n",
      "        batch_labels = train_1hot_labels[offset:(offset + FLAGS_batch_size), :, :]\n",
      "        \n",
      "        \n",
      "        # FEED GRAPH\n",
      "        \n",
      "        feed_dict = {tf_train_data : batch_data, tf_train_labels : batch_labels}\n",
      "        _, l, predictions = sess.run([optimizer, loss, train_prediction], feed_dict=feed_dict)\n",
      "        \n",
      "        \n",
      "        # PERIODIC EVALUATION\n",
      "        \n",
      "        if (step % 500 == 0):\n",
      "            print(\"\\nMinibatch loss at step %d: %f\" % (step, l))\n",
      "            print(\"Minibatch accuracy: %.1f%%\" % accuracy(predictions, batch_labels))\n",
      "            \n",
      "            val_accuracy = (accuracy(val_prediction0.eval(), val_1hot_labels[0 * (FLAGS_val_size/10): 1 * (FLAGS_val_size/10)]) + \\\n",
      "                            accuracy(val_prediction1.eval(), val_1hot_labels[1 * (FLAGS_val_size/10): 2 * (FLAGS_val_size/10)]) + \\\n",
      "                            accuracy(val_prediction2.eval(), val_1hot_labels[2 * (FLAGS_val_size/10): 3 * (FLAGS_val_size/10)]) + \\\n",
      "                            accuracy(val_prediction3.eval(), val_1hot_labels[3 * (FLAGS_val_size/10): 4 * (FLAGS_val_size/10)]) + \\\n",
      "                            accuracy(val_prediction4.eval(), val_1hot_labels[4 * (FLAGS_val_size/10): 5 * (FLAGS_val_size/10)]) + \\\n",
      "                            accuracy(val_prediction5.eval(), val_1hot_labels[5 * (FLAGS_val_size/10): 6 * (FLAGS_val_size/10)]) + \\\n",
      "                            accuracy(val_prediction6.eval(), val_1hot_labels[6 * (FLAGS_val_size/10): 7 * (FLAGS_val_size/10)]) + \\\n",
      "                            accuracy(val_prediction7.eval(), val_1hot_labels[7 * (FLAGS_val_size/10): 8 * (FLAGS_val_size/10)]) + \\\n",
      "                            accuracy(val_prediction8.eval(), val_1hot_labels[8 * (FLAGS_val_size/10): 9 * (FLAGS_val_size/10)]) + \\\n",
      "                            accuracy(val_prediction9.eval(), val_1hot_labels[9 * (FLAGS_val_size/10):10 * (FLAGS_val_size/10)])) / 10.0\n",
      "            \n",
      "            print(\"Validation accuracy: %.1f%%\" % val_accuracy)               \n",
      "         \n",
      "\n",
      "    # FINAL EVALUATION    \n",
      "            \n",
      "    test_accuracy = (accuracy(test_prediction0.eval(), test_1hot_labels[0 * (FLAGS_test_size/10): 1 * (FLAGS_test_size/10)]) + \\\n",
      "                     accuracy(test_prediction1.eval(), test_1hot_labels[1 * (FLAGS_test_size/10): 2 * (FLAGS_test_size/10)]) + \\\n",
      "                     accuracy(test_prediction2.eval(), test_1hot_labels[2 * (FLAGS_test_size/10): 3 * (FLAGS_test_size/10)]) + \\\n",
      "                     accuracy(test_prediction3.eval(), test_1hot_labels[3 * (FLAGS_test_size/10): 4 * (FLAGS_test_size/10)]) + \\\n",
      "                     accuracy(test_prediction4.eval(), test_1hot_labels[4 * (FLAGS_test_size/10): 5 * (FLAGS_test_size/10)]) + \\\n",
      "                     accuracy(test_prediction5.eval(), test_1hot_labels[5 * (FLAGS_test_size/10): 6 * (FLAGS_test_size/10)]) + \\\n",
      "                     accuracy(test_prediction6.eval(), test_1hot_labels[6 * (FLAGS_test_size/10): 7 * (FLAGS_test_size/10)]) + \\\n",
      "                     accuracy(test_prediction7.eval(), test_1hot_labels[7 * (FLAGS_test_size/10): 8 * (FLAGS_test_size/10)]) + \\\n",
      "                     accuracy(test_prediction8.eval(), test_1hot_labels[8 * (FLAGS_test_size/10): 9 * (FLAGS_test_size/10)]) + \\\n",
      "                     accuracy(test_prediction9.eval(), test_1hot_labels[9 * (FLAGS_test_size/10):10 * (FLAGS_test_size/10)])) / 10.0  \n",
      "    \n",
      "    print(\"\\nTest accuracy: %.1f%%\" % test_accuracy)\n",
      "    \n",
      "    # SAVE MODEL FOR LATER USE\n",
      "    \n",
      "    save_path = saver.save(sess, \"/home/shilpak/ML_Playground/deep-learning-capstone/model1.ckpt\")"
     ],
     "language": "python",
     "metadata": {},
     "outputs": [
      {
       "output_type": "stream",
       "stream": "stdout",
       "text": [
        "Initialized all variables\n",
        "\n",
        "Minibatch loss at step 0: 58.726936"
       ]
      },
      {
       "output_type": "stream",
       "stream": "stdout",
       "text": [
        "\n",
        "Minibatch accuracy: 0.0%\n",
        "Validation accuracy: 0.7%"
       ]
      },
      {
       "output_type": "stream",
       "stream": "stdout",
       "text": [
        "\n",
        "\n",
        "Minibatch loss at step 500: 6.804560"
       ]
      },
      {
       "output_type": "stream",
       "stream": "stdout",
       "text": [
        "\n",
        "Minibatch accuracy: 0.0%\n",
        "Validation accuracy: 0.8%"
       ]
      },
      {
       "output_type": "stream",
       "stream": "stdout",
       "text": [
        "\n",
        "\n",
        "Minibatch loss at step 1000: 6.278614"
       ]
      },
      {
       "output_type": "stream",
       "stream": "stdout",
       "text": [
        "\n",
        "Minibatch accuracy: 0.0%\n",
        "Validation accuracy: 1.2%"
       ]
      },
      {
       "output_type": "stream",
       "stream": "stdout",
       "text": [
        "\n",
        "\n",
        "Minibatch loss at step 1500: 6.375948"
       ]
      },
      {
       "output_type": "stream",
       "stream": "stdout",
       "text": [
        "\n",
        "Minibatch accuracy: 1.6%\n",
        "Validation accuracy: 1.3%"
       ]
      },
      {
       "output_type": "stream",
       "stream": "stdout",
       "text": [
        "\n",
        "\n",
        "Minibatch loss at step 2000: 6.260629"
       ]
      },
      {
       "output_type": "stream",
       "stream": "stdout",
       "text": [
        "\n",
        "Minibatch accuracy: 0.0%\n",
        "Validation accuracy: 2.1%"
       ]
      },
      {
       "output_type": "stream",
       "stream": "stdout",
       "text": [
        "\n",
        "\n",
        "Minibatch loss at step 2500: 5.752051"
       ]
      },
      {
       "output_type": "stream",
       "stream": "stdout",
       "text": [
        "\n",
        "Minibatch accuracy: 0.0%\n",
        "Validation accuracy: 2.3%"
       ]
      },
      {
       "output_type": "stream",
       "stream": "stdout",
       "text": [
        "\n",
        "\n",
        "Minibatch loss at step 3000: 5.535981"
       ]
      },
      {
       "output_type": "stream",
       "stream": "stdout",
       "text": [
        "\n",
        "Minibatch accuracy: 3.1%\n",
        "Validation accuracy: 3.5%"
       ]
      },
      {
       "output_type": "stream",
       "stream": "stdout",
       "text": [
        "\n",
        "\n",
        "Minibatch loss at step 3500: 5.323325"
       ]
      },
      {
       "output_type": "stream",
       "stream": "stdout",
       "text": [
        "\n",
        "Minibatch accuracy: 1.6%\n",
        "Validation accuracy: 5.0%"
       ]
      },
      {
       "output_type": "stream",
       "stream": "stdout",
       "text": [
        "\n",
        "\n",
        "Minibatch loss at step 4000: 5.389345"
       ]
      },
      {
       "output_type": "stream",
       "stream": "stdout",
       "text": [
        "\n",
        "Minibatch accuracy: 6.2%\n",
        "Validation accuracy: 7.7%"
       ]
      },
      {
       "output_type": "stream",
       "stream": "stdout",
       "text": [
        "\n",
        "\n",
        "Minibatch loss at step 4500: 5.195469"
       ]
      },
      {
       "output_type": "stream",
       "stream": "stdout",
       "text": [
        "\n",
        "Minibatch accuracy: 6.2%\n",
        "Validation accuracy: 10.1%"
       ]
      },
      {
       "output_type": "stream",
       "stream": "stdout",
       "text": [
        "\n",
        "\n",
        "Minibatch loss at step 5000: 4.366533"
       ]
      },
      {
       "output_type": "stream",
       "stream": "stdout",
       "text": [
        "\n",
        "Minibatch accuracy: 12.5%\n",
        "Validation accuracy: 12.7%"
       ]
      },
      {
       "output_type": "stream",
       "stream": "stdout",
       "text": [
        "\n",
        "\n",
        "Minibatch loss at step 5500: 4.686057"
       ]
      },
      {
       "output_type": "stream",
       "stream": "stdout",
       "text": [
        "\n",
        "Minibatch accuracy: 14.1%\n",
        "Validation accuracy: 14.8%"
       ]
      },
      {
       "output_type": "stream",
       "stream": "stdout",
       "text": [
        "\n",
        "\n",
        "Minibatch loss at step 6000: 4.264805"
       ]
      },
      {
       "output_type": "stream",
       "stream": "stdout",
       "text": [
        "\n",
        "Minibatch accuracy: 17.2%\n",
        "Validation accuracy: 16.4%"
       ]
      },
      {
       "output_type": "stream",
       "stream": "stdout",
       "text": [
        "\n",
        "\n",
        "Minibatch loss at step 6500: 4.491878"
       ]
      },
      {
       "output_type": "stream",
       "stream": "stdout",
       "text": [
        "\n",
        "Minibatch accuracy: 15.6%\n",
        "Validation accuracy: 19.0%"
       ]
      },
      {
       "output_type": "stream",
       "stream": "stdout",
       "text": [
        "\n",
        "\n",
        "Minibatch loss at step 7000: 3.839481"
       ]
      },
      {
       "output_type": "stream",
       "stream": "stdout",
       "text": [
        "\n",
        "Minibatch accuracy: 17.2%\n",
        "Validation accuracy: 20.2%"
       ]
      },
      {
       "output_type": "stream",
       "stream": "stdout",
       "text": [
        "\n",
        "\n",
        "Minibatch loss at step 7500: 3.362753"
       ]
      },
      {
       "output_type": "stream",
       "stream": "stdout",
       "text": [
        "\n",
        "Minibatch accuracy: 32.8%\n",
        "Validation accuracy: 23.4%"
       ]
      },
      {
       "output_type": "stream",
       "stream": "stdout",
       "text": [
        "\n",
        "\n",
        "Minibatch loss at step 8000: 4.051543"
       ]
      },
      {
       "output_type": "stream",
       "stream": "stdout",
       "text": [
        "\n",
        "Minibatch accuracy: 32.8%\n",
        "Validation accuracy: 24.8%"
       ]
      },
      {
       "output_type": "stream",
       "stream": "stdout",
       "text": [
        "\n",
        "\n",
        "Minibatch loss at step 8500: 3.498247"
       ]
      },
      {
       "output_type": "stream",
       "stream": "stdout",
       "text": [
        "\n",
        "Minibatch accuracy: 35.9%\n",
        "Validation accuracy: 25.7%"
       ]
      },
      {
       "output_type": "stream",
       "stream": "stdout",
       "text": [
        "\n",
        "\n",
        "Minibatch loss at step 9000: 3.179952"
       ]
      },
      {
       "output_type": "stream",
       "stream": "stdout",
       "text": [
        "\n",
        "Minibatch accuracy: 34.4%\n",
        "Validation accuracy: 28.2%"
       ]
      },
      {
       "output_type": "stream",
       "stream": "stdout",
       "text": [
        "\n",
        "\n",
        "Minibatch loss at step 9500: 3.487829"
       ]
      },
      {
       "output_type": "stream",
       "stream": "stdout",
       "text": [
        "\n",
        "Minibatch accuracy: 29.7%\n",
        "Validation accuracy: 29.6%"
       ]
      },
      {
       "output_type": "stream",
       "stream": "stdout",
       "text": [
        "\n",
        "\n",
        "Minibatch loss at step 10000: 3.381264"
       ]
      },
      {
       "output_type": "stream",
       "stream": "stdout",
       "text": [
        "\n",
        "Minibatch accuracy: 32.8%\n",
        "Validation accuracy: 31.1%"
       ]
      },
      {
       "output_type": "stream",
       "stream": "stdout",
       "text": [
        "\n",
        "\n",
        "Minibatch loss at step 10500: 2.657162"
       ]
      },
      {
       "output_type": "stream",
       "stream": "stdout",
       "text": [
        "\n",
        "Minibatch accuracy: 34.4%\n",
        "Validation accuracy: 33.6%"
       ]
      },
      {
       "output_type": "stream",
       "stream": "stdout",
       "text": [
        "\n",
        "\n",
        "Minibatch loss at step 11000: 3.274694"
       ]
      },
      {
       "output_type": "stream",
       "stream": "stdout",
       "text": [
        "\n",
        "Minibatch accuracy: 29.7%\n",
        "Validation accuracy: 33.4%"
       ]
      },
      {
       "output_type": "stream",
       "stream": "stdout",
       "text": [
        "\n",
        "\n",
        "Minibatch loss at step 11500: 2.506130"
       ]
      },
      {
       "output_type": "stream",
       "stream": "stdout",
       "text": [
        "\n",
        "Minibatch accuracy: 35.9%\n",
        "Validation accuracy: 34.7%"
       ]
      },
      {
       "output_type": "stream",
       "stream": "stdout",
       "text": [
        "\n",
        "\n",
        "Minibatch loss at step 12000: 3.356242"
       ]
      },
      {
       "output_type": "stream",
       "stream": "stdout",
       "text": [
        "\n",
        "Minibatch accuracy: 29.7%\n",
        "Validation accuracy: 37.6%"
       ]
      },
      {
       "output_type": "stream",
       "stream": "stdout",
       "text": [
        "\n",
        "\n",
        "Minibatch loss at step 12500: 2.876071"
       ]
      },
      {
       "output_type": "stream",
       "stream": "stdout",
       "text": [
        "\n",
        "Minibatch accuracy: 31.2%\n",
        "Validation accuracy: 37.9%"
       ]
      },
      {
       "output_type": "stream",
       "stream": "stdout",
       "text": [
        "\n",
        "\n",
        "Minibatch loss at step 13000: 3.202276"
       ]
      },
      {
       "output_type": "stream",
       "stream": "stdout",
       "text": [
        "\n",
        "Minibatch accuracy: 34.4%\n",
        "Validation accuracy: 39.5%"
       ]
      },
      {
       "output_type": "stream",
       "stream": "stdout",
       "text": [
        "\n",
        "\n",
        "Minibatch loss at step 13500: 2.455859"
       ]
      },
      {
       "output_type": "stream",
       "stream": "stdout",
       "text": [
        "\n",
        "Minibatch accuracy: 45.3%\n",
        "Validation accuracy: 39.7%"
       ]
      },
      {
       "output_type": "stream",
       "stream": "stdout",
       "text": [
        "\n",
        "\n",
        "Minibatch loss at step 14000: 2.383239"
       ]
      },
      {
       "output_type": "stream",
       "stream": "stdout",
       "text": [
        "\n",
        "Minibatch accuracy: 50.0%\n",
        "Validation accuracy: 42.1%"
       ]
      },
      {
       "output_type": "stream",
       "stream": "stdout",
       "text": [
        "\n",
        "\n",
        "Minibatch loss at step 14500: 2.635093"
       ]
      },
      {
       "output_type": "stream",
       "stream": "stdout",
       "text": [
        "\n",
        "Minibatch accuracy: 35.9%\n",
        "Validation accuracy: 43.0%"
       ]
      },
      {
       "output_type": "stream",
       "stream": "stdout",
       "text": [
        "\n",
        "\n",
        "Minibatch loss at step 15000: 3.169869"
       ]
      },
      {
       "output_type": "stream",
       "stream": "stdout",
       "text": [
        "\n",
        "Minibatch accuracy: 28.1%\n",
        "Validation accuracy: 42.3%"
       ]
      },
      {
       "output_type": "stream",
       "stream": "stdout",
       "text": [
        "\n",
        "\n",
        "Minibatch loss at step 15500: 2.706909"
       ]
      },
      {
       "output_type": "stream",
       "stream": "stdout",
       "text": [
        "\n",
        "Minibatch accuracy: 43.8%\n",
        "Validation accuracy: 43.2%"
       ]
      },
      {
       "output_type": "stream",
       "stream": "stdout",
       "text": [
        "\n",
        "\n",
        "Minibatch loss at step 16000: 2.616852"
       ]
      },
      {
       "output_type": "stream",
       "stream": "stdout",
       "text": [
        "\n",
        "Minibatch accuracy: 39.1%\n",
        "Validation accuracy: 45.3%"
       ]
      },
      {
       "output_type": "stream",
       "stream": "stdout",
       "text": [
        "\n",
        "\n",
        "Minibatch loss at step 16500: 2.386424"
       ]
      },
      {
       "output_type": "stream",
       "stream": "stdout",
       "text": [
        "\n",
        "Minibatch accuracy: 53.1%\n",
        "Validation accuracy: 46.2%"
       ]
      },
      {
       "output_type": "stream",
       "stream": "stdout",
       "text": [
        "\n",
        "\n",
        "Minibatch loss at step 17000: 2.118918"
       ]
      },
      {
       "output_type": "stream",
       "stream": "stdout",
       "text": [
        "\n",
        "Minibatch accuracy: 53.1%\n",
        "Validation accuracy: 45.4%"
       ]
      },
      {
       "output_type": "stream",
       "stream": "stdout",
       "text": [
        "\n",
        "\n",
        "Minibatch loss at step 17500: 2.671488"
       ]
      },
      {
       "output_type": "stream",
       "stream": "stdout",
       "text": [
        "\n",
        "Minibatch accuracy: 51.6%\n",
        "Validation accuracy: 47.3%"
       ]
      },
      {
       "output_type": "stream",
       "stream": "stdout",
       "text": [
        "\n",
        "\n",
        "Minibatch loss at step 18000: 2.540054"
       ]
      },
      {
       "output_type": "stream",
       "stream": "stdout",
       "text": [
        "\n",
        "Minibatch accuracy: 50.0%\n",
        "Validation accuracy: 48.8%"
       ]
      },
      {
       "output_type": "stream",
       "stream": "stdout",
       "text": [
        "\n",
        "\n",
        "Minibatch loss at step 18500: 1.990483"
       ]
      },
      {
       "output_type": "stream",
       "stream": "stdout",
       "text": [
        "\n",
        "Minibatch accuracy: 56.2%\n",
        "Validation accuracy: 48.5%"
       ]
      },
      {
       "output_type": "stream",
       "stream": "stdout",
       "text": [
        "\n",
        "\n",
        "Minibatch loss at step 19000: 2.350342"
       ]
      },
      {
       "output_type": "stream",
       "stream": "stdout",
       "text": [
        "\n",
        "Minibatch accuracy: 46.9%\n",
        "Validation accuracy: 49.3%"
       ]
      },
      {
       "output_type": "stream",
       "stream": "stdout",
       "text": [
        "\n",
        "\n",
        "Minibatch loss at step 19500: 2.871186"
       ]
      },
      {
       "output_type": "stream",
       "stream": "stdout",
       "text": [
        "\n",
        "Minibatch accuracy: 45.3%\n",
        "Validation accuracy: 49.4%"
       ]
      },
      {
       "output_type": "stream",
       "stream": "stdout",
       "text": [
        "\n",
        "\n",
        "Minibatch loss at step 20000: 1.679871"
       ]
      },
      {
       "output_type": "stream",
       "stream": "stdout",
       "text": [
        "\n",
        "Minibatch accuracy: 57.8%\n",
        "Validation accuracy: 51.4%"
       ]
      },
      {
       "output_type": "stream",
       "stream": "stdout",
       "text": [
        "\n",
        "\n",
        "Minibatch loss at step 20500: 2.002800"
       ]
      },
      {
       "output_type": "stream",
       "stream": "stdout",
       "text": [
        "\n",
        "Minibatch accuracy: 46.9%\n",
        "Validation accuracy: 50.1%"
       ]
      },
      {
       "output_type": "stream",
       "stream": "stdout",
       "text": [
        "\n",
        "\n",
        "Minibatch loss at step 21000: 2.974216"
       ]
      },
      {
       "output_type": "stream",
       "stream": "stdout",
       "text": [
        "\n",
        "Minibatch accuracy: 48.4%\n",
        "Validation accuracy: 51.9%"
       ]
      },
      {
       "output_type": "stream",
       "stream": "stdout",
       "text": [
        "\n",
        "\n",
        "Minibatch loss at step 21500: 2.132594"
       ]
      },
      {
       "output_type": "stream",
       "stream": "stdout",
       "text": [
        "\n",
        "Minibatch accuracy: 53.1%\n",
        "Validation accuracy: 53.1%"
       ]
      },
      {
       "output_type": "stream",
       "stream": "stdout",
       "text": [
        "\n",
        "\n",
        "Minibatch loss at step 22000: 1.819561"
       ]
      },
      {
       "output_type": "stream",
       "stream": "stdout",
       "text": [
        "\n",
        "Minibatch accuracy: 54.7%\n",
        "Validation accuracy: 52.4%"
       ]
      },
      {
       "output_type": "stream",
       "stream": "stdout",
       "text": [
        "\n",
        "\n",
        "Minibatch loss at step 22500: 1.891218"
       ]
      },
      {
       "output_type": "stream",
       "stream": "stdout",
       "text": [
        "\n",
        "Minibatch accuracy: 45.3%\n",
        "Validation accuracy: 54.4%"
       ]
      },
      {
       "output_type": "stream",
       "stream": "stdout",
       "text": [
        "\n",
        "\n",
        "Minibatch loss at step 23000: 2.365744"
       ]
      },
      {
       "output_type": "stream",
       "stream": "stdout",
       "text": [
        "\n",
        "Minibatch accuracy: 53.1%\n",
        "Validation accuracy: 52.9%"
       ]
      },
      {
       "output_type": "stream",
       "stream": "stdout",
       "text": [
        "\n",
        "\n",
        "Minibatch loss at step 23500: 1.659502"
       ]
      },
      {
       "output_type": "stream",
       "stream": "stdout",
       "text": [
        "\n",
        "Minibatch accuracy: 56.2%\n",
        "Validation accuracy: 52.9%"
       ]
      },
      {
       "output_type": "stream",
       "stream": "stdout",
       "text": [
        "\n",
        "\n",
        "Minibatch loss at step 24000: 2.896060"
       ]
      },
      {
       "output_type": "stream",
       "stream": "stdout",
       "text": [
        "\n",
        "Minibatch accuracy: 42.2%\n",
        "Validation accuracy: 54.0%"
       ]
      },
      {
       "output_type": "stream",
       "stream": "stdout",
       "text": [
        "\n",
        "\n",
        "Minibatch loss at step 24500: 2.328755"
       ]
      },
      {
       "output_type": "stream",
       "stream": "stdout",
       "text": [
        "\n",
        "Minibatch accuracy: 51.6%\n",
        "Validation accuracy: 54.9%"
       ]
      },
      {
       "output_type": "stream",
       "stream": "stdout",
       "text": [
        "\n",
        "\n",
        "Minibatch loss at step 25000: 2.729172"
       ]
      },
      {
       "output_type": "stream",
       "stream": "stdout",
       "text": [
        "\n",
        "Minibatch accuracy: 51.6%\n",
        "Validation accuracy: 55.8%"
       ]
      },
      {
       "output_type": "stream",
       "stream": "stdout",
       "text": [
        "\n",
        "\n",
        "Minibatch loss at step 25500: 2.230776"
       ]
      },
      {
       "output_type": "stream",
       "stream": "stdout",
       "text": [
        "\n",
        "Minibatch accuracy: 45.3%\n",
        "Validation accuracy: 56.4%"
       ]
      },
      {
       "output_type": "stream",
       "stream": "stdout",
       "text": [
        "\n",
        "\n",
        "Minibatch loss at step 26000: 1.342456"
       ]
      },
      {
       "output_type": "stream",
       "stream": "stdout",
       "text": [
        "\n",
        "Minibatch accuracy: 62.5%\n",
        "Validation accuracy: 56.5%"
       ]
      },
      {
       "output_type": "stream",
       "stream": "stdout",
       "text": [
        "\n",
        "\n",
        "Minibatch loss at step 26500: 2.032269"
       ]
      },
      {
       "output_type": "stream",
       "stream": "stdout",
       "text": [
        "\n",
        "Minibatch accuracy: 56.2%\n",
        "Validation accuracy: 57.0%"
       ]
      },
      {
       "output_type": "stream",
       "stream": "stdout",
       "text": [
        "\n",
        "\n",
        "Minibatch loss at step 27000: 1.667163"
       ]
      },
      {
       "output_type": "stream",
       "stream": "stdout",
       "text": [
        "\n",
        "Minibatch accuracy: 57.8%\n",
        "Validation accuracy: 56.8%"
       ]
      },
      {
       "output_type": "stream",
       "stream": "stdout",
       "text": [
        "\n",
        "\n",
        "Minibatch loss at step 27500: 1.945471"
       ]
      },
      {
       "output_type": "stream",
       "stream": "stdout",
       "text": [
        "\n",
        "Minibatch accuracy: 57.8%\n",
        "Validation accuracy: 57.8%"
       ]
      },
      {
       "output_type": "stream",
       "stream": "stdout",
       "text": [
        "\n",
        "\n",
        "Minibatch loss at step 28000: 1.757322"
       ]
      },
      {
       "output_type": "stream",
       "stream": "stdout",
       "text": [
        "\n",
        "Minibatch accuracy: 60.9%\n",
        "Validation accuracy: 57.8%"
       ]
      },
      {
       "output_type": "stream",
       "stream": "stdout",
       "text": [
        "\n",
        "\n",
        "Minibatch loss at step 28500: 1.840778"
       ]
      },
      {
       "output_type": "stream",
       "stream": "stdout",
       "text": [
        "\n",
        "Minibatch accuracy: 60.9%\n",
        "Validation accuracy: 59.9%"
       ]
      },
      {
       "output_type": "stream",
       "stream": "stdout",
       "text": [
        "\n",
        "\n",
        "Minibatch loss at step 29000: 2.077711"
       ]
      },
      {
       "output_type": "stream",
       "stream": "stdout",
       "text": [
        "\n",
        "Minibatch accuracy: 56.2%\n",
        "Validation accuracy: 58.5%"
       ]
      },
      {
       "output_type": "stream",
       "stream": "stdout",
       "text": [
        "\n",
        "\n",
        "Minibatch loss at step 29500: 2.403838"
       ]
      },
      {
       "output_type": "stream",
       "stream": "stdout",
       "text": [
        "\n",
        "Minibatch accuracy: 57.8%\n",
        "Validation accuracy: 59.2%"
       ]
      },
      {
       "output_type": "stream",
       "stream": "stdout",
       "text": [
        "\n",
        "\n",
        "Minibatch loss at step 30000: 1.526133"
       ]
      },
      {
       "output_type": "stream",
       "stream": "stdout",
       "text": [
        "\n",
        "Minibatch accuracy: 57.8%\n",
        "Validation accuracy: 58.6%"
       ]
      },
      {
       "output_type": "stream",
       "stream": "stdout",
       "text": [
        "\n",
        "\n",
        "Minibatch loss at step 30500: 2.039493"
       ]
      },
      {
       "output_type": "stream",
       "stream": "stdout",
       "text": [
        "\n",
        "Minibatch accuracy: 59.4%\n",
        "Validation accuracy: 59.4%"
       ]
      },
      {
       "output_type": "stream",
       "stream": "stdout",
       "text": [
        "\n",
        "\n",
        "Minibatch loss at step 31000: 1.794240"
       ]
      },
      {
       "output_type": "stream",
       "stream": "stdout",
       "text": [
        "\n",
        "Minibatch accuracy: 67.2%\n",
        "Validation accuracy: 60.4%"
       ]
      },
      {
       "output_type": "stream",
       "stream": "stdout",
       "text": [
        "\n",
        "\n",
        "Minibatch loss at step 31500: 1.561435"
       ]
      },
      {
       "output_type": "stream",
       "stream": "stdout",
       "text": [
        "\n",
        "Minibatch accuracy: 67.2%\n",
        "Validation accuracy: 60.4%"
       ]
      },
      {
       "output_type": "stream",
       "stream": "stdout",
       "text": [
        "\n",
        "\n",
        "Minibatch loss at step 32000: 1.535210"
       ]
      },
      {
       "output_type": "stream",
       "stream": "stdout",
       "text": [
        "\n",
        "Minibatch accuracy: 62.5%\n",
        "Validation accuracy: 61.3%"
       ]
      },
      {
       "output_type": "stream",
       "stream": "stdout",
       "text": [
        "\n",
        "\n",
        "Minibatch loss at step 32500: 1.383812"
       ]
      },
      {
       "output_type": "stream",
       "stream": "stdout",
       "text": [
        "\n",
        "Minibatch accuracy: 62.5%\n",
        "Validation accuracy: 61.2%"
       ]
      },
      {
       "output_type": "stream",
       "stream": "stdout",
       "text": [
        "\n",
        "\n",
        "Minibatch loss at step 33000: 1.833651"
       ]
      },
      {
       "output_type": "stream",
       "stream": "stdout",
       "text": [
        "\n",
        "Minibatch accuracy: 56.2%\n",
        "Validation accuracy: 60.9%"
       ]
      },
      {
       "output_type": "stream",
       "stream": "stdout",
       "text": [
        "\n",
        "\n",
        "Minibatch loss at step 33500: 1.612548"
       ]
      },
      {
       "output_type": "stream",
       "stream": "stdout",
       "text": [
        "\n",
        "Minibatch accuracy: 62.5%\n",
        "Validation accuracy: 61.4%"
       ]
      },
      {
       "output_type": "stream",
       "stream": "stdout",
       "text": [
        "\n",
        "\n",
        "Minibatch loss at step 34000: 1.953753"
       ]
      },
      {
       "output_type": "stream",
       "stream": "stdout",
       "text": [
        "\n",
        "Minibatch accuracy: 60.9%\n",
        "Validation accuracy: 60.8%"
       ]
      },
      {
       "output_type": "stream",
       "stream": "stdout",
       "text": [
        "\n",
        "\n",
        "Minibatch loss at step 34500: 1.887807"
       ]
      },
      {
       "output_type": "stream",
       "stream": "stdout",
       "text": [
        "\n",
        "Minibatch accuracy: 60.9%\n",
        "Validation accuracy: 61.7%"
       ]
      },
      {
       "output_type": "stream",
       "stream": "stdout",
       "text": [
        "\n",
        "\n",
        "Minibatch loss at step 35000: 1.739772"
       ]
      },
      {
       "output_type": "stream",
       "stream": "stdout",
       "text": [
        "\n",
        "Minibatch accuracy: 54.7%\n",
        "Validation accuracy: 62.7%"
       ]
      },
      {
       "output_type": "stream",
       "stream": "stdout",
       "text": [
        "\n",
        "\n",
        "Minibatch loss at step 35500: 1.298214"
       ]
      },
      {
       "output_type": "stream",
       "stream": "stdout",
       "text": [
        "\n",
        "Minibatch accuracy: 75.0%\n",
        "Validation accuracy: 63.1%"
       ]
      },
      {
       "output_type": "stream",
       "stream": "stdout",
       "text": [
        "\n",
        "\n",
        "Minibatch loss at step 36000: 1.942998"
       ]
      },
      {
       "output_type": "stream",
       "stream": "stdout",
       "text": [
        "\n",
        "Minibatch accuracy: 71.9%\n",
        "Validation accuracy: 63.3%"
       ]
      },
      {
       "output_type": "stream",
       "stream": "stdout",
       "text": [
        "\n",
        "\n",
        "Minibatch loss at step 36500: 1.387182"
       ]
      },
      {
       "output_type": "stream",
       "stream": "stdout",
       "text": [
        "\n",
        "Minibatch accuracy: 73.4%\n",
        "Validation accuracy: 62.5%"
       ]
      },
      {
       "output_type": "stream",
       "stream": "stdout",
       "text": [
        "\n",
        "\n",
        "Minibatch loss at step 37000: 1.832169"
       ]
      },
      {
       "output_type": "stream",
       "stream": "stdout",
       "text": [
        "\n",
        "Minibatch accuracy: 59.4%\n",
        "Validation accuracy: 63.3%"
       ]
      },
      {
       "output_type": "stream",
       "stream": "stdout",
       "text": [
        "\n",
        "\n",
        "Minibatch loss at step 37500: 1.838171"
       ]
      },
      {
       "output_type": "stream",
       "stream": "stdout",
       "text": [
        "\n",
        "Minibatch accuracy: 51.6%\n",
        "Validation accuracy: 63.7%"
       ]
      },
      {
       "output_type": "stream",
       "stream": "stdout",
       "text": [
        "\n",
        "\n",
        "Minibatch loss at step 38000: 1.374711"
       ]
      },
      {
       "output_type": "stream",
       "stream": "stdout",
       "text": [
        "\n",
        "Minibatch accuracy: 68.8%\n",
        "Validation accuracy: 64.5%"
       ]
      },
      {
       "output_type": "stream",
       "stream": "stdout",
       "text": [
        "\n",
        "\n",
        "Minibatch loss at step 38500: 1.240696"
       ]
      },
      {
       "output_type": "stream",
       "stream": "stdout",
       "text": [
        "\n",
        "Minibatch accuracy: 71.9%\n",
        "Validation accuracy: 64.8%"
       ]
      },
      {
       "output_type": "stream",
       "stream": "stdout",
       "text": [
        "\n",
        "\n",
        "Minibatch loss at step 39000: 1.438051"
       ]
      },
      {
       "output_type": "stream",
       "stream": "stdout",
       "text": [
        "\n",
        "Minibatch accuracy: 60.9%\n",
        "Validation accuracy: 64.8%"
       ]
      },
      {
       "output_type": "stream",
       "stream": "stdout",
       "text": [
        "\n",
        "\n",
        "Minibatch loss at step 39500: 1.514111"
       ]
      },
      {
       "output_type": "stream",
       "stream": "stdout",
       "text": [
        "\n",
        "Minibatch accuracy: 62.5%\n",
        "Validation accuracy: 65.3%"
       ]
      },
      {
       "output_type": "stream",
       "stream": "stdout",
       "text": [
        "\n",
        "\n",
        "Minibatch loss at step 40000: 2.173947"
       ]
      },
      {
       "output_type": "stream",
       "stream": "stdout",
       "text": [
        "\n",
        "Minibatch accuracy: 51.6%\n",
        "Validation accuracy: 64.5%"
       ]
      },
      {
       "output_type": "stream",
       "stream": "stdout",
       "text": [
        "\n",
        "\n",
        "Minibatch loss at step 40500: 1.986058"
       ]
      },
      {
       "output_type": "stream",
       "stream": "stdout",
       "text": [
        "\n",
        "Minibatch accuracy: 59.4%\n",
        "Validation accuracy: 66.5%"
       ]
      },
      {
       "output_type": "stream",
       "stream": "stdout",
       "text": [
        "\n",
        "\n",
        "Minibatch loss at step 41000: 2.222079"
       ]
      },
      {
       "output_type": "stream",
       "stream": "stdout",
       "text": [
        "\n",
        "Minibatch accuracy: 56.2%\n",
        "Validation accuracy: 64.0%"
       ]
      },
      {
       "output_type": "stream",
       "stream": "stdout",
       "text": [
        "\n",
        "\n",
        "Minibatch loss at step 41500: 1.229337"
       ]
      },
      {
       "output_type": "stream",
       "stream": "stdout",
       "text": [
        "\n",
        "Minibatch accuracy: 75.0%\n",
        "Validation accuracy: 65.3%"
       ]
      },
      {
       "output_type": "stream",
       "stream": "stdout",
       "text": [
        "\n",
        "\n",
        "Minibatch loss at step 42000: 1.340598"
       ]
      },
      {
       "output_type": "stream",
       "stream": "stdout",
       "text": [
        "\n",
        "Minibatch accuracy: 70.3%\n",
        "Validation accuracy: 65.8%"
       ]
      },
      {
       "output_type": "stream",
       "stream": "stdout",
       "text": [
        "\n",
        "\n",
        "Minibatch loss at step 42500: 1.944290"
       ]
      },
      {
       "output_type": "stream",
       "stream": "stdout",
       "text": [
        "\n",
        "Minibatch accuracy: 59.4%\n",
        "Validation accuracy: 67.2%"
       ]
      },
      {
       "output_type": "stream",
       "stream": "stdout",
       "text": [
        "\n",
        "\n",
        "Minibatch loss at step 43000: 1.452714"
       ]
      },
      {
       "output_type": "stream",
       "stream": "stdout",
       "text": [
        "\n",
        "Minibatch accuracy: 68.8%\n",
        "Validation accuracy: 66.3%"
       ]
      },
      {
       "output_type": "stream",
       "stream": "stdout",
       "text": [
        "\n",
        "\n",
        "Minibatch loss at step 43500: 2.246967"
       ]
      },
      {
       "output_type": "stream",
       "stream": "stdout",
       "text": [
        "\n",
        "Minibatch accuracy: 60.9%\n",
        "Validation accuracy: 65.7%"
       ]
      },
      {
       "output_type": "stream",
       "stream": "stdout",
       "text": [
        "\n",
        "\n",
        "Minibatch loss at step 44000: 1.774018"
       ]
      },
      {
       "output_type": "stream",
       "stream": "stdout",
       "text": [
        "\n",
        "Minibatch accuracy: 64.1%\n",
        "Validation accuracy: 66.0%"
       ]
      },
      {
       "output_type": "stream",
       "stream": "stdout",
       "text": [
        "\n",
        "\n",
        "Minibatch loss at step 44500: 1.349965"
       ]
      },
      {
       "output_type": "stream",
       "stream": "stdout",
       "text": [
        "\n",
        "Minibatch accuracy: 70.3%\n",
        "Validation accuracy: 66.0%"
       ]
      },
      {
       "output_type": "stream",
       "stream": "stdout",
       "text": [
        "\n",
        "\n",
        "Minibatch loss at step 45000: 1.718406"
       ]
      },
      {
       "output_type": "stream",
       "stream": "stdout",
       "text": [
        "\n",
        "Minibatch accuracy: 64.1%\n",
        "Validation accuracy: 67.0%"
       ]
      },
      {
       "output_type": "stream",
       "stream": "stdout",
       "text": [
        "\n",
        "\n",
        "Minibatch loss at step 45500: 1.191437"
       ]
      },
      {
       "output_type": "stream",
       "stream": "stdout",
       "text": [
        "\n",
        "Minibatch accuracy: 70.3%\n",
        "Validation accuracy: 67.6%"
       ]
      },
      {
       "output_type": "stream",
       "stream": "stdout",
       "text": [
        "\n",
        "\n",
        "Minibatch loss at step 46000: 1.495746"
       ]
      },
      {
       "output_type": "stream",
       "stream": "stdout",
       "text": [
        "\n",
        "Minibatch accuracy: 70.3%\n",
        "Validation accuracy: 67.2%"
       ]
      },
      {
       "output_type": "stream",
       "stream": "stdout",
       "text": [
        "\n",
        "\n",
        "Minibatch loss at step 46500: 1.377004"
       ]
      },
      {
       "output_type": "stream",
       "stream": "stdout",
       "text": [
        "\n",
        "Minibatch accuracy: 70.3%\n",
        "Validation accuracy: 67.9%"
       ]
      },
      {
       "output_type": "stream",
       "stream": "stdout",
       "text": [
        "\n",
        "\n",
        "Minibatch loss at step 47000: 1.356021"
       ]
      },
      {
       "output_type": "stream",
       "stream": "stdout",
       "text": [
        "\n",
        "Minibatch accuracy: 68.8%\n",
        "Validation accuracy: 67.7%"
       ]
      },
      {
       "output_type": "stream",
       "stream": "stdout",
       "text": [
        "\n",
        "\n",
        "Minibatch loss at step 47500: 1.509697"
       ]
      },
      {
       "output_type": "stream",
       "stream": "stdout",
       "text": [
        "\n",
        "Minibatch accuracy: 68.8%\n",
        "Validation accuracy: 68.3%"
       ]
      },
      {
       "output_type": "stream",
       "stream": "stdout",
       "text": [
        "\n",
        "\n",
        "Minibatch loss at step 48000: 1.506832"
       ]
      },
      {
       "output_type": "stream",
       "stream": "stdout",
       "text": [
        "\n",
        "Minibatch accuracy: 57.8%\n",
        "Validation accuracy: 67.7%"
       ]
      },
      {
       "output_type": "stream",
       "stream": "stdout",
       "text": [
        "\n",
        "\n",
        "Minibatch loss at step 48500: 0.780941"
       ]
      },
      {
       "output_type": "stream",
       "stream": "stdout",
       "text": [
        "\n",
        "Minibatch accuracy: 73.4%\n",
        "Validation accuracy: 68.4%"
       ]
      },
      {
       "output_type": "stream",
       "stream": "stdout",
       "text": [
        "\n",
        "\n",
        "Minibatch loss at step 49000: 1.717145"
       ]
      },
      {
       "output_type": "stream",
       "stream": "stdout",
       "text": [
        "\n",
        "Minibatch accuracy: 65.6%\n",
        "Validation accuracy: 68.4%"
       ]
      },
      {
       "output_type": "stream",
       "stream": "stdout",
       "text": [
        "\n",
        "\n",
        "Minibatch loss at step 49500: 1.244471"
       ]
      },
      {
       "output_type": "stream",
       "stream": "stdout",
       "text": [
        "\n",
        "Minibatch accuracy: 67.2%\n",
        "Validation accuracy: 68.9%"
       ]
      },
      {
       "output_type": "stream",
       "stream": "stdout",
       "text": [
        "\n",
        "\n",
        "Minibatch loss at step 50000: 1.474182"
       ]
      },
      {
       "output_type": "stream",
       "stream": "stdout",
       "text": [
        "\n",
        "Minibatch accuracy: 68.8%\n",
        "Validation accuracy: 68.9%"
       ]
      },
      {
       "output_type": "stream",
       "stream": "stdout",
       "text": [
        "\n",
        "\n",
        "Minibatch loss at step 50500: 1.220880"
       ]
      },
      {
       "output_type": "stream",
       "stream": "stdout",
       "text": [
        "\n",
        "Minibatch accuracy: 68.8%\n",
        "Validation accuracy: 68.1%"
       ]
      },
      {
       "output_type": "stream",
       "stream": "stdout",
       "text": [
        "\n",
        "\n",
        "Minibatch loss at step 51000: 1.264018"
       ]
      },
      {
       "output_type": "stream",
       "stream": "stdout",
       "text": [
        "\n",
        "Minibatch accuracy: 73.4%\n",
        "Validation accuracy: 68.5%"
       ]
      },
      {
       "output_type": "stream",
       "stream": "stdout",
       "text": [
        "\n",
        "\n",
        "Minibatch loss at step 51500: 1.655916"
       ]
      },
      {
       "output_type": "stream",
       "stream": "stdout",
       "text": [
        "\n",
        "Minibatch accuracy: 68.8%\n",
        "Validation accuracy: 69.1%"
       ]
      },
      {
       "output_type": "stream",
       "stream": "stdout",
       "text": [
        "\n",
        "\n",
        "Minibatch loss at step 52000: 1.328622"
       ]
      },
      {
       "output_type": "stream",
       "stream": "stdout",
       "text": [
        "\n",
        "Minibatch accuracy: 73.4%\n",
        "Validation accuracy: 69.4%"
       ]
      },
      {
       "output_type": "stream",
       "stream": "stdout",
       "text": [
        "\n",
        "\n",
        "Minibatch loss at step 52500: 1.148606"
       ]
      },
      {
       "output_type": "stream",
       "stream": "stdout",
       "text": [
        "\n",
        "Minibatch accuracy: 67.2%\n",
        "Validation accuracy: 70.2%"
       ]
      },
      {
       "output_type": "stream",
       "stream": "stdout",
       "text": [
        "\n",
        "\n",
        "Minibatch loss at step 53000: 1.111054"
       ]
      },
      {
       "output_type": "stream",
       "stream": "stdout",
       "text": [
        "\n",
        "Minibatch accuracy: 75.0%\n",
        "Validation accuracy: 68.8%"
       ]
      },
      {
       "output_type": "stream",
       "stream": "stdout",
       "text": [
        "\n",
        "\n",
        "Minibatch loss at step 53500: 0.769696"
       ]
      },
      {
       "output_type": "stream",
       "stream": "stdout",
       "text": [
        "\n",
        "Minibatch accuracy: 81.2%\n",
        "Validation accuracy: 69.7%"
       ]
      },
      {
       "output_type": "stream",
       "stream": "stdout",
       "text": [
        "\n",
        "\n",
        "Minibatch loss at step 54000: 0.790260"
       ]
      },
      {
       "output_type": "stream",
       "stream": "stdout",
       "text": [
        "\n",
        "Minibatch accuracy: 81.2%\n",
        "Validation accuracy: 69.4%"
       ]
      },
      {
       "output_type": "stream",
       "stream": "stdout",
       "text": [
        "\n",
        "\n",
        "Minibatch loss at step 54500: 1.062904"
       ]
      },
      {
       "output_type": "stream",
       "stream": "stdout",
       "text": [
        "\n",
        "Minibatch accuracy: 73.4%\n",
        "Validation accuracy: 69.4%"
       ]
      },
      {
       "output_type": "stream",
       "stream": "stdout",
       "text": [
        "\n",
        "\n",
        "Minibatch loss at step 55000: 1.050408"
       ]
      },
      {
       "output_type": "stream",
       "stream": "stdout",
       "text": [
        "\n",
        "Minibatch accuracy: 75.0%\n",
        "Validation accuracy: 70.1%"
       ]
      },
      {
       "output_type": "stream",
       "stream": "stdout",
       "text": [
        "\n",
        "\n",
        "Minibatch loss at step 55500: 1.447699"
       ]
      },
      {
       "output_type": "stream",
       "stream": "stdout",
       "text": [
        "\n",
        "Minibatch accuracy: 71.9%\n",
        "Validation accuracy: 70.0%"
       ]
      },
      {
       "output_type": "stream",
       "stream": "stdout",
       "text": [
        "\n",
        "\n",
        "Minibatch loss at step 56000: 1.197722"
       ]
      },
      {
       "output_type": "stream",
       "stream": "stdout",
       "text": [
        "\n",
        "Minibatch accuracy: 73.4%\n",
        "Validation accuracy: 70.5%"
       ]
      },
      {
       "output_type": "stream",
       "stream": "stdout",
       "text": [
        "\n",
        "\n",
        "Minibatch loss at step 56500: 0.772547"
       ]
      },
      {
       "output_type": "stream",
       "stream": "stdout",
       "text": [
        "\n",
        "Minibatch accuracy: 79.7%\n",
        "Validation accuracy: 70.1%"
       ]
      },
      {
       "output_type": "stream",
       "stream": "stdout",
       "text": [
        "\n",
        "\n",
        "Minibatch loss at step 57000: 1.137732"
       ]
      },
      {
       "output_type": "stream",
       "stream": "stdout",
       "text": [
        "\n",
        "Minibatch accuracy: 70.3%\n",
        "Validation accuracy: 70.7%"
       ]
      },
      {
       "output_type": "stream",
       "stream": "stdout",
       "text": [
        "\n",
        "\n",
        "Minibatch loss at step 57500: 1.005427"
       ]
      },
      {
       "output_type": "stream",
       "stream": "stdout",
       "text": [
        "\n",
        "Minibatch accuracy: 78.1%\n",
        "Validation accuracy: 70.0%"
       ]
      },
      {
       "output_type": "stream",
       "stream": "stdout",
       "text": [
        "\n",
        "\n",
        "Minibatch loss at step 58000: 0.751577"
       ]
      },
      {
       "output_type": "stream",
       "stream": "stdout",
       "text": [
        "\n",
        "Minibatch accuracy: 79.7%\n",
        "Validation accuracy: 70.4%"
       ]
      },
      {
       "output_type": "stream",
       "stream": "stdout",
       "text": [
        "\n",
        "\n",
        "Minibatch loss at step 58500: 1.224080"
       ]
      },
      {
       "output_type": "stream",
       "stream": "stdout",
       "text": [
        "\n",
        "Minibatch accuracy: 76.6%\n",
        "Validation accuracy: 71.2%"
       ]
      },
      {
       "output_type": "stream",
       "stream": "stdout",
       "text": [
        "\n",
        "\n",
        "Minibatch loss at step 59000: 1.322826"
       ]
      },
      {
       "output_type": "stream",
       "stream": "stdout",
       "text": [
        "\n",
        "Minibatch accuracy: 67.2%\n",
        "Validation accuracy: 70.2%"
       ]
      },
      {
       "output_type": "stream",
       "stream": "stdout",
       "text": [
        "\n",
        "\n",
        "Minibatch loss at step 59500: 0.959489"
       ]
      },
      {
       "output_type": "stream",
       "stream": "stdout",
       "text": [
        "\n",
        "Minibatch accuracy: 75.0%\n",
        "Validation accuracy: 71.4%"
       ]
      },
      {
       "output_type": "stream",
       "stream": "stdout",
       "text": [
        "\n",
        "\n",
        "Minibatch loss at step 60000: 1.552650"
       ]
      },
      {
       "output_type": "stream",
       "stream": "stdout",
       "text": [
        "\n",
        "Minibatch accuracy: 68.8%\n",
        "Validation accuracy: 71.0%"
       ]
      },
      {
       "output_type": "stream",
       "stream": "stdout",
       "text": [
        "\n",
        "\n",
        "Minibatch loss at step 60500: 1.273647"
       ]
      },
      {
       "output_type": "stream",
       "stream": "stdout",
       "text": [
        "\n",
        "Minibatch accuracy: 68.8%\n",
        "Validation accuracy: 71.4%"
       ]
      },
      {
       "output_type": "stream",
       "stream": "stdout",
       "text": [
        "\n",
        "\n",
        "Minibatch loss at step 61000: 1.048492"
       ]
      },
      {
       "output_type": "stream",
       "stream": "stdout",
       "text": [
        "\n",
        "Minibatch accuracy: 71.9%\n",
        "Validation accuracy: 70.7%"
       ]
      },
      {
       "output_type": "stream",
       "stream": "stdout",
       "text": [
        "\n",
        "\n",
        "Minibatch loss at step 61500: 1.226266"
       ]
      },
      {
       "output_type": "stream",
       "stream": "stdout",
       "text": [
        "\n",
        "Minibatch accuracy: 76.6%\n",
        "Validation accuracy: 71.9%"
       ]
      },
      {
       "output_type": "stream",
       "stream": "stdout",
       "text": [
        "\n",
        "\n",
        "Minibatch loss at step 62000: 0.569003"
       ]
      },
      {
       "output_type": "stream",
       "stream": "stdout",
       "text": [
        "\n",
        "Minibatch accuracy: 78.1%\n",
        "Validation accuracy: 71.5%"
       ]
      },
      {
       "output_type": "stream",
       "stream": "stdout",
       "text": [
        "\n",
        "\n",
        "Minibatch loss at step 62500: 1.579569"
       ]
      },
      {
       "output_type": "stream",
       "stream": "stdout",
       "text": [
        "\n",
        "Minibatch accuracy: 62.5%\n",
        "Validation accuracy: 72.0%"
       ]
      },
      {
       "output_type": "stream",
       "stream": "stdout",
       "text": [
        "\n",
        "\n",
        "Minibatch loss at step 63000: 1.732051"
       ]
      },
      {
       "output_type": "stream",
       "stream": "stdout",
       "text": [
        "\n",
        "Minibatch accuracy: 64.1%\n",
        "Validation accuracy: 71.1%"
       ]
      },
      {
       "output_type": "stream",
       "stream": "stdout",
       "text": [
        "\n",
        "\n",
        "Minibatch loss at step 63500: 1.738394"
       ]
      },
      {
       "output_type": "stream",
       "stream": "stdout",
       "text": [
        "\n",
        "Minibatch accuracy: 71.9%\n",
        "Validation accuracy: 71.9%"
       ]
      },
      {
       "output_type": "stream",
       "stream": "stdout",
       "text": [
        "\n",
        "\n",
        "Minibatch loss at step 64000: 1.136539"
       ]
      },
      {
       "output_type": "stream",
       "stream": "stdout",
       "text": [
        "\n",
        "Minibatch accuracy: 73.4%\n",
        "Validation accuracy: 71.5%"
       ]
      },
      {
       "output_type": "stream",
       "stream": "stdout",
       "text": [
        "\n",
        "\n",
        "Minibatch loss at step 64500: 1.139671"
       ]
      },
      {
       "output_type": "stream",
       "stream": "stdout",
       "text": [
        "\n",
        "Minibatch accuracy: 79.7%\n",
        "Validation accuracy: 71.0%"
       ]
      },
      {
       "output_type": "stream",
       "stream": "stdout",
       "text": [
        "\n",
        "\n",
        "Minibatch loss at step 65000: 1.289041"
       ]
      },
      {
       "output_type": "stream",
       "stream": "stdout",
       "text": [
        "\n",
        "Minibatch accuracy: 65.6%\n",
        "Validation accuracy: 72.9%"
       ]
      },
      {
       "output_type": "stream",
       "stream": "stdout",
       "text": [
        "\n",
        "\n",
        "Minibatch loss at step 65500: 0.822467"
       ]
      },
      {
       "output_type": "stream",
       "stream": "stdout",
       "text": [
        "\n",
        "Minibatch accuracy: 81.2%\n",
        "Validation accuracy: 71.7%"
       ]
      },
      {
       "output_type": "stream",
       "stream": "stdout",
       "text": [
        "\n",
        "\n",
        "Minibatch loss at step 66000: 1.338710"
       ]
      },
      {
       "output_type": "stream",
       "stream": "stdout",
       "text": [
        "\n",
        "Minibatch accuracy: 70.3%\n",
        "Validation accuracy: 72.3%"
       ]
      },
      {
       "output_type": "stream",
       "stream": "stdout",
       "text": [
        "\n",
        "\n",
        "Minibatch loss at step 66500: 1.362445"
       ]
      },
      {
       "output_type": "stream",
       "stream": "stdout",
       "text": [
        "\n",
        "Minibatch accuracy: 68.8%\n",
        "Validation accuracy: 72.1%"
       ]
      },
      {
       "output_type": "stream",
       "stream": "stdout",
       "text": [
        "\n",
        "\n",
        "Minibatch loss at step 67000: 1.224518"
       ]
      },
      {
       "output_type": "stream",
       "stream": "stdout",
       "text": [
        "\n",
        "Minibatch accuracy: 76.6%\n",
        "Validation accuracy: 73.1%"
       ]
      },
      {
       "output_type": "stream",
       "stream": "stdout",
       "text": [
        "\n",
        "\n",
        "Minibatch loss at step 67500: 1.243911"
       ]
      },
      {
       "output_type": "stream",
       "stream": "stdout",
       "text": [
        "\n",
        "Minibatch accuracy: 75.0%\n",
        "Validation accuracy: 72.9%"
       ]
      },
      {
       "output_type": "stream",
       "stream": "stdout",
       "text": [
        "\n",
        "\n",
        "Minibatch loss at step 68000: 1.356687"
       ]
      },
      {
       "output_type": "stream",
       "stream": "stdout",
       "text": [
        "\n",
        "Minibatch accuracy: 64.1%\n",
        "Validation accuracy: 72.7%"
       ]
      },
      {
       "output_type": "stream",
       "stream": "stdout",
       "text": [
        "\n",
        "\n",
        "Minibatch loss at step 68500: 1.451736"
       ]
      },
      {
       "output_type": "stream",
       "stream": "stdout",
       "text": [
        "\n",
        "Minibatch accuracy: 68.8%\n",
        "Validation accuracy: 72.6%"
       ]
      },
      {
       "output_type": "stream",
       "stream": "stdout",
       "text": [
        "\n",
        "\n",
        "Minibatch loss at step 69000: 1.841193"
       ]
      },
      {
       "output_type": "stream",
       "stream": "stdout",
       "text": [
        "\n",
        "Minibatch accuracy: 65.6%\n",
        "Validation accuracy: 72.4%"
       ]
      },
      {
       "output_type": "stream",
       "stream": "stdout",
       "text": [
        "\n",
        "\n",
        "Minibatch loss at step 69500: 1.118722"
       ]
      },
      {
       "output_type": "stream",
       "stream": "stdout",
       "text": [
        "\n",
        "Minibatch accuracy: 71.9%\n",
        "Validation accuracy: 73.2%"
       ]
      },
      {
       "output_type": "stream",
       "stream": "stdout",
       "text": [
        "\n",
        "\n",
        "Minibatch loss at step 70000: 0.869325"
       ]
      },
      {
       "output_type": "stream",
       "stream": "stdout",
       "text": [
        "\n",
        "Minibatch accuracy: 71.9%\n",
        "Validation accuracy: 73.8%"
       ]
      },
      {
       "output_type": "stream",
       "stream": "stdout",
       "text": [
        "\n",
        "\n",
        "Minibatch loss at step 70500: 1.267445"
       ]
      },
      {
       "output_type": "stream",
       "stream": "stdout",
       "text": [
        "\n",
        "Minibatch accuracy: 70.3%\n",
        "Validation accuracy: 72.5%"
       ]
      },
      {
       "output_type": "stream",
       "stream": "stdout",
       "text": [
        "\n",
        "\n",
        "Minibatch loss at step 71000: 0.571289"
       ]
      },
      {
       "output_type": "stream",
       "stream": "stdout",
       "text": [
        "\n",
        "Minibatch accuracy: 84.4%\n",
        "Validation accuracy: 73.2%"
       ]
      },
      {
       "output_type": "stream",
       "stream": "stdout",
       "text": [
        "\n",
        "\n",
        "Minibatch loss at step 71500: 0.897742"
       ]
      },
      {
       "output_type": "stream",
       "stream": "stdout",
       "text": [
        "\n",
        "Minibatch accuracy: 70.3%\n",
        "Validation accuracy: 73.4%"
       ]
      },
      {
       "output_type": "stream",
       "stream": "stdout",
       "text": [
        "\n",
        "\n",
        "Minibatch loss at step 72000: 0.881574"
       ]
      },
      {
       "output_type": "stream",
       "stream": "stdout",
       "text": [
        "\n",
        "Minibatch accuracy: 82.8%\n",
        "Validation accuracy: 73.5%"
       ]
      },
      {
       "output_type": "stream",
       "stream": "stdout",
       "text": [
        "\n",
        "\n",
        "Minibatch loss at step 72500: 0.876964"
       ]
      },
      {
       "output_type": "stream",
       "stream": "stdout",
       "text": [
        "\n",
        "Minibatch accuracy: 79.7%\n",
        "Validation accuracy: 73.7%"
       ]
      },
      {
       "output_type": "stream",
       "stream": "stdout",
       "text": [
        "\n",
        "\n",
        "Minibatch loss at step 73000: 0.919704"
       ]
      },
      {
       "output_type": "stream",
       "stream": "stdout",
       "text": [
        "\n",
        "Minibatch accuracy: 73.4%\n",
        "Validation accuracy: 73.2%"
       ]
      },
      {
       "output_type": "stream",
       "stream": "stdout",
       "text": [
        "\n",
        "\n",
        "Minibatch loss at step 73500: 1.207867"
       ]
      },
      {
       "output_type": "stream",
       "stream": "stdout",
       "text": [
        "\n",
        "Minibatch accuracy: 68.8%\n",
        "Validation accuracy: 73.6%"
       ]
      },
      {
       "output_type": "stream",
       "stream": "stdout",
       "text": [
        "\n",
        "\n",
        "Minibatch loss at step 74000: 0.603309"
       ]
      },
      {
       "output_type": "stream",
       "stream": "stdout",
       "text": [
        "\n",
        "Minibatch accuracy: 85.9%\n",
        "Validation accuracy: 73.6%"
       ]
      },
      {
       "output_type": "stream",
       "stream": "stdout",
       "text": [
        "\n",
        "\n",
        "Minibatch loss at step 74500: 1.089138"
       ]
      },
      {
       "output_type": "stream",
       "stream": "stdout",
       "text": [
        "\n",
        "Minibatch accuracy: 70.3%\n",
        "Validation accuracy: 73.8%"
       ]
      },
      {
       "output_type": "stream",
       "stream": "stdout",
       "text": [
        "\n",
        "\n",
        "Minibatch loss at step 75000: 0.551558"
       ]
      },
      {
       "output_type": "stream",
       "stream": "stdout",
       "text": [
        "\n",
        "Minibatch accuracy: 84.4%\n",
        "Validation accuracy: 74.0%"
       ]
      },
      {
       "output_type": "stream",
       "stream": "stdout",
       "text": [
        "\n",
        "\n",
        "Minibatch loss at step 75500: 1.049087"
       ]
      },
      {
       "output_type": "stream",
       "stream": "stdout",
       "text": [
        "\n",
        "Minibatch accuracy: 75.0%\n",
        "Validation accuracy: 74.5%"
       ]
      },
      {
       "output_type": "stream",
       "stream": "stdout",
       "text": [
        "\n",
        "\n",
        "Minibatch loss at step 76000: 1.324066"
       ]
      },
      {
       "output_type": "stream",
       "stream": "stdout",
       "text": [
        "\n",
        "Minibatch accuracy: 73.4%\n",
        "Validation accuracy: 72.8%"
       ]
      },
      {
       "output_type": "stream",
       "stream": "stdout",
       "text": [
        "\n",
        "\n",
        "Minibatch loss at step 76500: 1.641285"
       ]
      },
      {
       "output_type": "stream",
       "stream": "stdout",
       "text": [
        "\n",
        "Minibatch accuracy: 71.9%\n",
        "Validation accuracy: 74.5%"
       ]
      },
      {
       "output_type": "stream",
       "stream": "stdout",
       "text": [
        "\n",
        "\n",
        "Minibatch loss at step 77000: 1.029338"
       ]
      },
      {
       "output_type": "stream",
       "stream": "stdout",
       "text": [
        "\n",
        "Minibatch accuracy: 82.8%\n",
        "Validation accuracy: 73.8%"
       ]
      },
      {
       "output_type": "stream",
       "stream": "stdout",
       "text": [
        "\n",
        "\n",
        "Minibatch loss at step 77500: 0.881438"
       ]
      },
      {
       "output_type": "stream",
       "stream": "stdout",
       "text": [
        "\n",
        "Minibatch accuracy: 82.8%\n",
        "Validation accuracy: 74.4%"
       ]
      },
      {
       "output_type": "stream",
       "stream": "stdout",
       "text": [
        "\n",
        "\n",
        "Minibatch loss at step 78000: 0.823772"
       ]
      },
      {
       "output_type": "stream",
       "stream": "stdout",
       "text": [
        "\n",
        "Minibatch accuracy: 75.0%\n",
        "Validation accuracy: 74.1%"
       ]
      },
      {
       "output_type": "stream",
       "stream": "stdout",
       "text": [
        "\n",
        "\n",
        "Minibatch loss at step 78500: 1.003743"
       ]
      },
      {
       "output_type": "stream",
       "stream": "stdout",
       "text": [
        "\n",
        "Minibatch accuracy: 79.7%\n",
        "Validation accuracy: 74.3%"
       ]
      },
      {
       "output_type": "stream",
       "stream": "stdout",
       "text": [
        "\n",
        "\n",
        "Minibatch loss at step 79000: 0.844498"
       ]
      },
      {
       "output_type": "stream",
       "stream": "stdout",
       "text": [
        "\n",
        "Minibatch accuracy: 79.7%\n",
        "Validation accuracy: 74.1%"
       ]
      },
      {
       "output_type": "stream",
       "stream": "stdout",
       "text": [
        "\n",
        "\n",
        "Minibatch loss at step 79500: 1.343804"
       ]
      },
      {
       "output_type": "stream",
       "stream": "stdout",
       "text": [
        "\n",
        "Minibatch accuracy: 75.0%\n",
        "Validation accuracy: 74.4%"
       ]
      },
      {
       "output_type": "stream",
       "stream": "stdout",
       "text": [
        "\n",
        "\n",
        "Minibatch loss at step 80000: 0.523410"
       ]
      },
      {
       "output_type": "stream",
       "stream": "stdout",
       "text": [
        "\n",
        "Minibatch accuracy: 85.9%\n",
        "Validation accuracy: 74.9%"
       ]
      },
      {
       "output_type": "stream",
       "stream": "stdout",
       "text": [
        "\n",
        "\n",
        "Minibatch loss at step 80500: 0.832743"
       ]
      },
      {
       "output_type": "stream",
       "stream": "stdout",
       "text": [
        "\n",
        "Minibatch accuracy: 81.2%\n",
        "Validation accuracy: 75.0%"
       ]
      },
      {
       "output_type": "stream",
       "stream": "stdout",
       "text": [
        "\n",
        "\n",
        "Minibatch loss at step 81000: 1.068670"
       ]
      },
      {
       "output_type": "stream",
       "stream": "stdout",
       "text": [
        "\n",
        "Minibatch accuracy: 73.4%\n",
        "Validation accuracy: 74.0%"
       ]
      },
      {
       "output_type": "stream",
       "stream": "stdout",
       "text": [
        "\n",
        "\n",
        "Minibatch loss at step 81500: 1.210914"
       ]
      },
      {
       "output_type": "stream",
       "stream": "stdout",
       "text": [
        "\n",
        "Minibatch accuracy: 76.6%\n",
        "Validation accuracy: 75.4%"
       ]
      },
      {
       "output_type": "stream",
       "stream": "stdout",
       "text": [
        "\n",
        "\n",
        "Minibatch loss at step 82000: 0.689178"
       ]
      },
      {
       "output_type": "stream",
       "stream": "stdout",
       "text": [
        "\n",
        "Minibatch accuracy: 75.0%\n",
        "Validation accuracy: 75.1%"
       ]
      },
      {
       "output_type": "stream",
       "stream": "stdout",
       "text": [
        "\n",
        "\n",
        "Minibatch loss at step 82500: 0.838226"
       ]
      },
      {
       "output_type": "stream",
       "stream": "stdout",
       "text": [
        "\n",
        "Minibatch accuracy: 78.1%\n",
        "Validation accuracy: 74.6%"
       ]
      },
      {
       "output_type": "stream",
       "stream": "stdout",
       "text": [
        "\n",
        "\n",
        "Minibatch loss at step 83000: 1.445248"
       ]
      },
      {
       "output_type": "stream",
       "stream": "stdout",
       "text": [
        "\n",
        "Minibatch accuracy: 73.4%\n",
        "Validation accuracy: 74.9%"
       ]
      },
      {
       "output_type": "stream",
       "stream": "stdout",
       "text": [
        "\n",
        "\n",
        "Minibatch loss at step 83500: 1.293159"
       ]
      },
      {
       "output_type": "stream",
       "stream": "stdout",
       "text": [
        "\n",
        "Minibatch accuracy: 70.3%\n",
        "Validation accuracy: 75.4%"
       ]
      },
      {
       "output_type": "stream",
       "stream": "stdout",
       "text": [
        "\n",
        "\n",
        "Minibatch loss at step 84000: 0.660173"
       ]
      },
      {
       "output_type": "stream",
       "stream": "stdout",
       "text": [
        "\n",
        "Minibatch accuracy: 81.2%\n",
        "Validation accuracy: 75.4%"
       ]
      },
      {
       "output_type": "stream",
       "stream": "stdout",
       "text": [
        "\n",
        "\n",
        "Minibatch loss at step 84500: 0.822776"
       ]
      },
      {
       "output_type": "stream",
       "stream": "stdout",
       "text": [
        "\n",
        "Minibatch accuracy: 75.0%\n",
        "Validation accuracy: 74.6%"
       ]
      },
      {
       "output_type": "stream",
       "stream": "stdout",
       "text": [
        "\n",
        "\n",
        "Minibatch loss at step 85000: 1.118774"
       ]
      },
      {
       "output_type": "stream",
       "stream": "stdout",
       "text": [
        "\n",
        "Minibatch accuracy: 78.1%\n",
        "Validation accuracy: 74.8%"
       ]
      },
      {
       "output_type": "stream",
       "stream": "stdout",
       "text": [
        "\n",
        "\n",
        "Minibatch loss at step 85500: 1.935701"
       ]
      },
      {
       "output_type": "stream",
       "stream": "stdout",
       "text": [
        "\n",
        "Minibatch accuracy: 65.6%\n",
        "Validation accuracy: 75.5%"
       ]
      },
      {
       "output_type": "stream",
       "stream": "stdout",
       "text": [
        "\n",
        "\n",
        "Minibatch loss at step 86000: 0.712623"
       ]
      },
      {
       "output_type": "stream",
       "stream": "stdout",
       "text": [
        "\n",
        "Minibatch accuracy: 81.2%\n",
        "Validation accuracy: 75.4%"
       ]
      },
      {
       "output_type": "stream",
       "stream": "stdout",
       "text": [
        "\n",
        "\n",
        "Minibatch loss at step 86500: 1.057228"
       ]
      },
      {
       "output_type": "stream",
       "stream": "stdout",
       "text": [
        "\n",
        "Minibatch accuracy: 75.0%\n",
        "Validation accuracy: 75.1%"
       ]
      },
      {
       "output_type": "stream",
       "stream": "stdout",
       "text": [
        "\n",
        "\n",
        "Minibatch loss at step 87000: 1.464159"
       ]
      },
      {
       "output_type": "stream",
       "stream": "stdout",
       "text": [
        "\n",
        "Minibatch accuracy: 68.8%\n",
        "Validation accuracy: 74.8%"
       ]
      },
      {
       "output_type": "stream",
       "stream": "stdout",
       "text": [
        "\n",
        "\n",
        "Minibatch loss at step 87500: 0.679591"
       ]
      },
      {
       "output_type": "stream",
       "stream": "stdout",
       "text": [
        "\n",
        "Minibatch accuracy: 75.0%\n",
        "Validation accuracy: 75.9%"
       ]
      },
      {
       "output_type": "stream",
       "stream": "stdout",
       "text": [
        "\n",
        "\n",
        "Minibatch loss at step 88000: 1.418885"
       ]
      },
      {
       "output_type": "stream",
       "stream": "stdout",
       "text": [
        "\n",
        "Minibatch accuracy: 70.3%\n",
        "Validation accuracy: 75.2%"
       ]
      },
      {
       "output_type": "stream",
       "stream": "stdout",
       "text": [
        "\n",
        "\n",
        "Minibatch loss at step 88500: 0.914783"
       ]
      },
      {
       "output_type": "stream",
       "stream": "stdout",
       "text": [
        "\n",
        "Minibatch accuracy: 70.3%\n",
        "Validation accuracy: 76.2%"
       ]
      },
      {
       "output_type": "stream",
       "stream": "stdout",
       "text": [
        "\n",
        "\n",
        "Minibatch loss at step 89000: 0.996107"
       ]
      },
      {
       "output_type": "stream",
       "stream": "stdout",
       "text": [
        "\n",
        "Minibatch accuracy: 78.1%\n",
        "Validation accuracy: 75.2%"
       ]
      },
      {
       "output_type": "stream",
       "stream": "stdout",
       "text": [
        "\n",
        "\n",
        "Minibatch loss at step 89500: 1.204819"
       ]
      },
      {
       "output_type": "stream",
       "stream": "stdout",
       "text": [
        "\n",
        "Minibatch accuracy: 79.7%\n",
        "Validation accuracy: 74.9%"
       ]
      },
      {
       "output_type": "stream",
       "stream": "stdout",
       "text": [
        "\n",
        "\n",
        "Minibatch loss at step 90000: 1.198575"
       ]
      },
      {
       "output_type": "stream",
       "stream": "stdout",
       "text": [
        "\n",
        "Minibatch accuracy: 70.3%\n",
        "Validation accuracy: 75.1%"
       ]
      },
      {
       "output_type": "stream",
       "stream": "stdout",
       "text": [
        "\n",
        "\n",
        "Minibatch loss at step 90500: 1.028824"
       ]
      },
      {
       "output_type": "stream",
       "stream": "stdout",
       "text": [
        "\n",
        "Minibatch accuracy: 78.1%\n",
        "Validation accuracy: 75.3%"
       ]
      },
      {
       "output_type": "stream",
       "stream": "stdout",
       "text": [
        "\n",
        "\n",
        "Minibatch loss at step 91000: 0.795270"
       ]
      },
      {
       "output_type": "stream",
       "stream": "stdout",
       "text": [
        "\n",
        "Minibatch accuracy: 82.8%\n",
        "Validation accuracy: 76.7%"
       ]
      },
      {
       "output_type": "stream",
       "stream": "stdout",
       "text": [
        "\n",
        "\n",
        "Minibatch loss at step 91500: 0.453123"
       ]
      },
      {
       "output_type": "stream",
       "stream": "stdout",
       "text": [
        "\n",
        "Minibatch accuracy: 87.5%\n",
        "Validation accuracy: 76.6%"
       ]
      },
      {
       "output_type": "stream",
       "stream": "stdout",
       "text": [
        "\n",
        "\n",
        "Minibatch loss at step 92000: 0.687602"
       ]
      },
      {
       "output_type": "stream",
       "stream": "stdout",
       "text": [
        "\n",
        "Minibatch accuracy: 76.6%\n",
        "Validation accuracy: 75.9%"
       ]
      },
      {
       "output_type": "stream",
       "stream": "stdout",
       "text": [
        "\n",
        "\n",
        "Minibatch loss at step 92500: 0.710628"
       ]
      },
      {
       "output_type": "stream",
       "stream": "stdout",
       "text": [
        "\n",
        "Minibatch accuracy: 81.2%\n",
        "Validation accuracy: 75.9%"
       ]
      },
      {
       "output_type": "stream",
       "stream": "stdout",
       "text": [
        "\n",
        "\n",
        "Minibatch loss at step 93000: 0.941952"
       ]
      },
      {
       "output_type": "stream",
       "stream": "stdout",
       "text": [
        "\n",
        "Minibatch accuracy: 70.3%\n",
        "Validation accuracy: 76.6%"
       ]
      },
      {
       "output_type": "stream",
       "stream": "stdout",
       "text": [
        "\n",
        "\n",
        "Minibatch loss at step 93500: 1.023225"
       ]
      },
      {
       "output_type": "stream",
       "stream": "stdout",
       "text": [
        "\n",
        "Minibatch accuracy: 79.7%\n",
        "Validation accuracy: 76.2%"
       ]
      },
      {
       "output_type": "stream",
       "stream": "stdout",
       "text": [
        "\n",
        "\n",
        "Minibatch loss at step 94000: 1.158051"
       ]
      },
      {
       "output_type": "stream",
       "stream": "stdout",
       "text": [
        "\n",
        "Minibatch accuracy: 67.2%\n",
        "Validation accuracy: 76.7%"
       ]
      },
      {
       "output_type": "stream",
       "stream": "stdout",
       "text": [
        "\n",
        "\n",
        "Minibatch loss at step 94500: 0.969102"
       ]
      },
      {
       "output_type": "stream",
       "stream": "stdout",
       "text": [
        "\n",
        "Minibatch accuracy: 78.1%\n",
        "Validation accuracy: 76.3%"
       ]
      },
      {
       "output_type": "stream",
       "stream": "stdout",
       "text": [
        "\n",
        "\n",
        "Minibatch loss at step 95000: 0.957287"
       ]
      },
      {
       "output_type": "stream",
       "stream": "stdout",
       "text": [
        "\n",
        "Minibatch accuracy: 81.2%\n",
        "Validation accuracy: 76.4%"
       ]
      },
      {
       "output_type": "stream",
       "stream": "stdout",
       "text": [
        "\n",
        "\n",
        "Minibatch loss at step 95500: 1.346485"
       ]
      },
      {
       "output_type": "stream",
       "stream": "stdout",
       "text": [
        "\n",
        "Minibatch accuracy: 75.0%\n",
        "Validation accuracy: 75.4%"
       ]
      },
      {
       "output_type": "stream",
       "stream": "stdout",
       "text": [
        "\n",
        "\n",
        "Minibatch loss at step 96000: 1.968809"
       ]
      },
      {
       "output_type": "stream",
       "stream": "stdout",
       "text": [
        "\n",
        "Minibatch accuracy: 70.3%\n",
        "Validation accuracy: 76.4%"
       ]
      },
      {
       "output_type": "stream",
       "stream": "stdout",
       "text": [
        "\n",
        "\n",
        "Minibatch loss at step 96500: 0.965299"
       ]
      },
      {
       "output_type": "stream",
       "stream": "stdout",
       "text": [
        "\n",
        "Minibatch accuracy: 82.8%\n",
        "Validation accuracy: 75.7%"
       ]
      },
      {
       "output_type": "stream",
       "stream": "stdout",
       "text": [
        "\n",
        "\n",
        "Minibatch loss at step 97000: 0.946236"
       ]
      },
      {
       "output_type": "stream",
       "stream": "stdout",
       "text": [
        "\n",
        "Minibatch accuracy: 79.7%\n",
        "Validation accuracy: 76.6%"
       ]
      },
      {
       "output_type": "stream",
       "stream": "stdout",
       "text": [
        "\n",
        "\n",
        "Minibatch loss at step 97500: 0.788982"
       ]
      },
      {
       "output_type": "stream",
       "stream": "stdout",
       "text": [
        "\n",
        "Minibatch accuracy: 81.2%\n",
        "Validation accuracy: 76.5%"
       ]
      },
      {
       "output_type": "stream",
       "stream": "stdout",
       "text": [
        "\n",
        "\n",
        "Minibatch loss at step 98000: 1.044192"
       ]
      },
      {
       "output_type": "stream",
       "stream": "stdout",
       "text": [
        "\n",
        "Minibatch accuracy: 78.1%\n",
        "Validation accuracy: 77.0%"
       ]
      },
      {
       "output_type": "stream",
       "stream": "stdout",
       "text": [
        "\n",
        "\n",
        "Minibatch loss at step 98500: 1.120976"
       ]
      },
      {
       "output_type": "stream",
       "stream": "stdout",
       "text": [
        "\n",
        "Minibatch accuracy: 79.7%\n",
        "Validation accuracy: 75.9%"
       ]
      },
      {
       "output_type": "stream",
       "stream": "stdout",
       "text": [
        "\n",
        "\n",
        "Minibatch loss at step 99000: 1.167152"
       ]
      },
      {
       "output_type": "stream",
       "stream": "stdout",
       "text": [
        "\n",
        "Minibatch accuracy: 78.1%\n",
        "Validation accuracy: 76.0%"
       ]
      },
      {
       "output_type": "stream",
       "stream": "stdout",
       "text": [
        "\n",
        "\n",
        "Minibatch loss at step 99500: 0.903553"
       ]
      },
      {
       "output_type": "stream",
       "stream": "stdout",
       "text": [
        "\n",
        "Minibatch accuracy: 82.8%\n",
        "Validation accuracy: 76.6%"
       ]
      },
      {
       "output_type": "stream",
       "stream": "stdout",
       "text": [
        "\n",
        "\n",
        "Minibatch loss at step 100000: 0.948166"
       ]
      },
      {
       "output_type": "stream",
       "stream": "stdout",
       "text": [
        "\n",
        "Minibatch accuracy: 78.1%\n",
        "Validation accuracy: 76.2%"
       ]
      },
      {
       "output_type": "stream",
       "stream": "stdout",
       "text": [
        "\n",
        "\n",
        "Test accuracy: 58.4%"
       ]
      },
      {
       "output_type": "stream",
       "stream": "stdout",
       "text": [
        "\n"
       ]
      }
     ],
     "prompt_number": 26
    },
    {
     "cell_type": "code",
     "collapsed": false,
     "input": [
      "# BUILDING THE GRAPH WITHOUT THE DROPOUTS\n",
      "\n",
      "FLAGS_image_size = 32\n",
      "FLAGS_batch_size = 64\n",
      "FLAGS_patch_size = 5\n",
      "\n",
      "FLAGS_depth1 = 64\n",
      "FLAGS_depth2 = 64\n",
      "FLAGS_depth3 = 64\n",
      "\n",
      "FLAGS_prob1 = 0.7\n",
      "FLAGS_prob2 = 0.95\n",
      "\n",
      "FLAGS_num_hidden1 = 64\n",
      "\n",
      "FLAGS_num_channels = 1\n",
      "\n",
      "\n",
      "graph = tf.Graph()\n",
      "\n",
      "with graph.as_default():  \n",
      "    \n",
      "    \n",
      "    # INPUT DATA\n",
      "    \n",
      "    tf_train_data = tf.placeholder(\n",
      "        tf.float32, shape=(FLAGS_batch_size, FLAGS_image_size, FLAGS_image_size, FLAGS_num_channels))\n",
      "    \n",
      "    tf_train_labels = tf.placeholder(tf.float32, shape=(FLAGS_batch_size, 5, FLAGS_num_labels + 1))\n",
      "        \n",
      "    \n",
      "    tf_val_data0 = tf.constant(val_data[0 * (FLAGS_val_size/10): 1 * (FLAGS_val_size/10) ,: ,: ,: ].astype(np.float32))\n",
      "    tf_val_data1 = tf.constant(val_data[1 * (FLAGS_val_size/10): 2 * (FLAGS_val_size/10) ,: ,: ,: ].astype(np.float32))\n",
      "    tf_val_data2 = tf.constant(val_data[2 * (FLAGS_val_size/10): 3 * (FLAGS_val_size/10) ,: ,: ,: ].astype(np.float32))\n",
      "    tf_val_data3 = tf.constant(val_data[3 * (FLAGS_val_size/10): 4 * (FLAGS_val_size/10) ,: ,: ,: ].astype(np.float32))\n",
      "    tf_val_data4 = tf.constant(val_data[4 * (FLAGS_val_size/10): 5 * (FLAGS_val_size/10) ,: ,: ,: ].astype(np.float32))\n",
      "    tf_val_data5 = tf.constant(val_data[5 * (FLAGS_val_size/10): 6 * (FLAGS_val_size/10) ,: ,: ,: ].astype(np.float32))\n",
      "    tf_val_data6 = tf.constant(val_data[6 * (FLAGS_val_size/10): 7 * (FLAGS_val_size/10) ,: ,: ,: ].astype(np.float32))\n",
      "    tf_val_data7 = tf.constant(val_data[7 * (FLAGS_val_size/10): 8 * (FLAGS_val_size/10) ,: ,: ,: ].astype(np.float32))\n",
      "    tf_val_data8 = tf.constant(val_data[8 * (FLAGS_val_size/10): 9 * (FLAGS_val_size/10) ,: ,: ,: ].astype(np.float32))\n",
      "    tf_val_data9 = tf.constant(val_data[9 * (FLAGS_val_size/10):10 * (FLAGS_val_size/10) ,: ,: ,: ].astype(np.float32))\n",
      "        \n",
      "    \n",
      "    tf_test_data0 = tf.constant(test_data[0 * (FLAGS_test_size/10): 1 * (FLAGS_test_size/10) ,: ,: ,: ].astype(np.float32))\n",
      "    tf_test_data1 = tf.constant(test_data[1 * (FLAGS_test_size/10): 2 * (FLAGS_test_size/10) ,: ,: ,: ].astype(np.float32))\n",
      "    tf_test_data2 = tf.constant(test_data[2 * (FLAGS_test_size/10): 3 * (FLAGS_test_size/10) ,: ,: ,: ].astype(np.float32))\n",
      "    tf_test_data3 = tf.constant(test_data[3 * (FLAGS_test_size/10): 4 * (FLAGS_test_size/10) ,: ,: ,: ].astype(np.float32))\n",
      "    tf_test_data4 = tf.constant(test_data[4 * (FLAGS_test_size/10): 5 * (FLAGS_test_size/10) ,: ,: ,: ].astype(np.float32))\n",
      "    tf_test_data5 = tf.constant(test_data[5 * (FLAGS_test_size/10): 6 * (FLAGS_test_size/10) ,: ,: ,: ].astype(np.float32))\n",
      "    tf_test_data6 = tf.constant(test_data[6 * (FLAGS_test_size/10): 7 * (FLAGS_test_size/10) ,: ,: ,: ].astype(np.float32))\n",
      "    tf_test_data7 = tf.constant(test_data[7 * (FLAGS_test_size/10): 8 * (FLAGS_test_size/10) ,: ,: ,: ].astype(np.float32))\n",
      "    tf_test_data8 = tf.constant(test_data[8 * (FLAGS_test_size/10): 9 * (FLAGS_test_size/10) ,: ,: ,: ].astype(np.float32))\n",
      "    tf_test_data9 = tf.constant(test_data[9 * (FLAGS_test_size/10):10 * (FLAGS_test_size/10) ,: ,: ,: ].astype(np.float32))\n",
      "    \n",
      "    \n",
      "    # VARIABLES INITIALIZATION (TWO CONVOLUTION LAYERS WITH SHARED WEIGHTS)\n",
      "    \n",
      "    conv_layer1_weights = tf.Variable(tf.truncated_normal(\n",
      "          [FLAGS_patch_size, FLAGS_patch_size, FLAGS_num_channels, FLAGS_depth1], stddev=0.1))\n",
      "    conv_layer1_biases = tf.Variable(tf.zeros([FLAGS_depth1]))\n",
      "    \n",
      "    conv_layer2_weights = tf.Variable(tf.truncated_normal(\n",
      "          [FLAGS_patch_size, FLAGS_patch_size, FLAGS_depth1, FLAGS_depth2], stddev=0.1))\n",
      "    conv_layer2_biases = tf.Variable(tf.constant(1.0, shape=[FLAGS_depth2]))\n",
      "    \n",
      "    conv_layer3_weights = tf.Variable(tf.truncated_normal(\n",
      "          [FLAGS_patch_size, FLAGS_patch_size, FLAGS_depth2, FLAGS_depth3], stddev=0.1))\n",
      "    conv_layer3_biases = tf.Variable(tf.constant(1.0, shape=[FLAGS_depth3]))\n",
      "   \n",
      "    \n",
      "    # VARIABLES INITIALIZATION (FIRST FULLY CONNECTED LAYER WITH NON_SHARED WEIGHTS)\n",
      "    \n",
      "    full_digit0_layer1_weights = tf.Variable(tf.truncated_normal(\n",
      "          [FLAGS_image_size // 4 * FLAGS_image_size // 4 * FLAGS_depth3, FLAGS_num_hidden1], stddev=0.1))\n",
      "    full_digit0_layer1_biases = tf.Variable(tf.constant(1.0, shape=[FLAGS_num_hidden1]))\n",
      "    \n",
      "    full_digit1_layer1_weights = tf.Variable(tf.truncated_normal(\n",
      "          [FLAGS_image_size // 4 * FLAGS_image_size // 4 * FLAGS_depth3, FLAGS_num_hidden1], stddev=0.1))\n",
      "    full_digit1_layer1_biases = tf.Variable(tf.constant(1.0, shape=[FLAGS_num_hidden1]))\n",
      "    \n",
      "    full_digit2_layer1_weights = tf.Variable(tf.truncated_normal(\n",
      "          [FLAGS_image_size // 4 * FLAGS_image_size // 4 * FLAGS_depth3, FLAGS_num_hidden1], stddev=0.1))\n",
      "    full_digit2_layer1_biases = tf.Variable(tf.constant(1.0, shape=[FLAGS_num_hidden1]))\n",
      "    \n",
      "    full_digit3_layer1_weights = tf.Variable(tf.truncated_normal(\n",
      "          [FLAGS_image_size // 4 * FLAGS_image_size // 4 * FLAGS_depth3, FLAGS_num_hidden1], stddev=0.1))\n",
      "    full_digit3_layer1_biases = tf.Variable(tf.constant(1.0, shape=[FLAGS_num_hidden1]))\n",
      "    \n",
      "    full_digit4_layer1_weights = tf.Variable(tf.truncated_normal(\n",
      "          [FLAGS_image_size // 4 * FLAGS_image_size // 4 * FLAGS_depth3, FLAGS_num_hidden1], stddev=0.1))\n",
      "    full_digit4_layer1_biases = tf.Variable(tf.constant(1.0, shape=[FLAGS_num_hidden1]))\n",
      "    \n",
      "    \n",
      "    \n",
      "    # VARIABLES INITIALIZATION (SECOND FULLY CONNECTED LAYER WITH NON_SHARED WEIGHTS)\n",
      "    \n",
      "    full_digit0_layer2_weights = tf.Variable(tf.truncated_normal(\n",
      "          [FLAGS_num_hidden1, FLAGS_num_labels + 1], stddev=0.1))\n",
      "    full_digit0_layer2_biases = tf.Variable(tf.constant(1.0, shape=[FLAGS_num_labels + 1]))\n",
      "    \n",
      "    full_digit1_layer2_weights = tf.Variable(tf.truncated_normal(\n",
      "          [FLAGS_num_hidden1, FLAGS_num_labels + 1], stddev=0.1))\n",
      "    full_digit1_layer2_biases = tf.Variable(tf.constant(1.0, shape=[FLAGS_num_labels + 1]))\n",
      "    \n",
      "    full_digit2_layer2_weights = tf.Variable(tf.truncated_normal(\n",
      "          [FLAGS_num_hidden1, FLAGS_num_labels + 1], stddev=0.1))\n",
      "    full_digit2_layer2_biases = tf.Variable(tf.constant(1.0, shape=[FLAGS_num_labels + 1]))\n",
      "    \n",
      "    full_digit3_layer2_weights = tf.Variable(tf.truncated_normal(\n",
      "          [FLAGS_num_hidden1, FLAGS_num_labels + 1], stddev=0.1))\n",
      "    full_digit3_layer2_biases = tf.Variable(tf.constant(1.0, shape=[FLAGS_num_labels + 1]))\n",
      "    \n",
      "    full_digit4_layer2_weights = tf.Variable(tf.truncated_normal(\n",
      "          [FLAGS_num_hidden1, FLAGS_num_labels + 1], stddev=0.1))\n",
      "    full_digit4_layer2_biases = tf.Variable(tf.constant(1.0, shape=[FLAGS_num_labels + 1]))\n",
      "    \n",
      "    \n",
      "    # OTHER VARIABLES\n",
      "    \n",
      "    global_step = tf.Variable(0)\n",
      "    \n",
      "      \n",
      "    # MODEL (TWO CONVOLUTIONAL AND TWO FULLY CONNECTED LAYERS)\n",
      "    \n",
      "    def model(data):\n",
      "        \n",
      "        # CONVOLUTION LAYERS\n",
      "        \n",
      "        conv = tf.nn.conv2d(data, conv_layer1_weights, [1, 1, 1, 1], padding='SAME')      #conv\n",
      "        hidden = tf.nn.relu(conv + conv_layer1_biases) \n",
      "        pooled = tf.nn.max_pool(hidden, [1, 2, 2, 1], [1, 2, 2, 1], padding='SAME')       #pool\n",
      "            \n",
      "        conv = tf.nn.conv2d(pooled, conv_layer2_weights, [1, 1, 1, 1], padding='SAME')    #conv\n",
      "        hidden = tf.nn.relu(conv + conv_layer2_biases)\n",
      "        pooled = tf.nn.max_pool(hidden, [1, 2, 2, 1], [1, 2, 2, 1], padding='SAME')       #pool\n",
      "                    \n",
      "        conv = tf.nn.conv2d(pooled, conv_layer3_weights, [1, 1, 1, 1], padding='SAME')    #conv\n",
      "        hidden = tf.nn.relu(conv + conv_layer3_biases)\n",
      "        #hidden = tf.nn.dropout(hidden, FLAGS_prob1)\n",
      "        #pooled = tf.nn.max_pool(hidden, [1, 2, 2, 1], [1, 2, 2, 1], padding='SAME')       #pool\n",
      "               \n",
      "        shape = hidden.get_shape().as_list()        \n",
      "        reshape = tf.reshape(hidden, [shape[0], shape[1] * shape[2] * shape[3]])\n",
      "        \n",
      "        \n",
      "        # FULLY CONNECTED LAYERS FOR ALL DIGITS\n",
      "        \n",
      "        hidden = tf.nn.relu(tf.matmul(reshape, full_digit0_layer1_weights) + full_digit0_layer1_biases)\n",
      "        #hidden = tf.nn.dropout(hidden, FLAGS_prob2)\n",
      "        digit_0 = tf.matmul(hidden, full_digit0_layer2_weights) + full_digit0_layer2_biases          \n",
      "        \n",
      "        hidden = tf.nn.relu(tf.matmul(reshape, full_digit1_layer1_weights) + full_digit1_layer1_biases) \n",
      "        #hidden = tf.nn.dropout(hidden, FLAGS_prob2)\n",
      "        digit_1 = tf.matmul(hidden, full_digit1_layer2_weights) + full_digit1_layer2_biases          \n",
      "        \n",
      "        hidden = tf.nn.relu(tf.matmul(reshape, full_digit2_layer1_weights) + full_digit2_layer1_biases)     \n",
      "        #hidden = tf.nn.dropout(hidden, FLAGS_prob2)\n",
      "        digit_2 = tf.matmul(hidden, full_digit2_layer2_weights) + full_digit2_layer2_biases          \n",
      "        \n",
      "        hidden = tf.nn.relu(tf.matmul(reshape, full_digit3_layer1_weights) + full_digit3_layer1_biases)\n",
      "        #hidden = tf.nn.dropout(hidden, FLAGS_prob2)\n",
      "        digit_3 = tf.matmul(hidden, full_digit3_layer2_weights) + full_digit3_layer2_biases          \n",
      "        \n",
      "        hidden = tf.nn.relu(tf.matmul(reshape, full_digit4_layer1_weights) + full_digit4_layer1_biases)   \n",
      "        #hidden = tf.nn.dropout(hidden, FLAGS_prob2)\n",
      "        digit_4 = tf.matmul(hidden, full_digit4_layer2_weights) + full_digit4_layer2_biases          \n",
      "              \n",
      "        return [digit_0, digit_1, digit_2, digit_3, digit_4]\n",
      "    \n",
      "    \n",
      "    \n",
      "    def softmax_joiner(logits):      \n",
      "        \n",
      "        return tf.transpose(tf.pack([tf.nn.softmax(logits[0]), tf.nn.softmax(logits[1]), \\\n",
      "                                     tf.nn.softmax(logits[2]), tf.nn.softmax(logits[3]), \\\n",
      "                                     tf.nn.softmax(logits[4])]), perm = [1,0,2])\n",
      "    \n",
      "  \n",
      "    # PREDICTIONS\n",
      "    \n",
      "    logits = model(tf_train_data) \n",
      "    \n",
      "    \n",
      "        \n",
      "    # LOSS FUNCTION\n",
      "    \n",
      "    loss = tf.reduce_mean(tf.nn.softmax_cross_entropy_with_logits(logits[0], tf_train_labels[:,0,:])) + \\\n",
      "           tf.reduce_mean(tf.nn.softmax_cross_entropy_with_logits(logits[1], tf_train_labels[:,1,:])) + \\\n",
      "           tf.reduce_mean(tf.nn.softmax_cross_entropy_with_logits(logits[2], tf_train_labels[:,2,:])) + \\\n",
      "           tf.reduce_mean(tf.nn.softmax_cross_entropy_with_logits(logits[3], tf_train_labels[:,3,:])) + \\\n",
      "           tf.reduce_mean(tf.nn.softmax_cross_entropy_with_logits(logits[4], tf_train_labels[:,4,:]))\n",
      "    \n",
      "    \n",
      "    # OPTIMIZING LOSS \n",
      "    \n",
      "    learning_rate = tf.train.exponential_decay(0.01, global_step, 1000, 0.9)\n",
      "    \n",
      "    optimizer = tf.train.GradientDescentOptimizer(learning_rate).minimize(loss)   # Use 0.001\n",
      "  \n",
      "    # PREDICTION FOR MINIBATCH TRAINING DATA\n",
      "    \n",
      "    train_prediction = softmax_joiner(logits)  \n",
      "                \n",
      "    \n",
      "    #PREDICTION FOR VALIDATION DATA   \n",
      "    \n",
      "    val_prediction0 = softmax_joiner(model(tf_val_data0))\n",
      "    val_prediction1 = softmax_joiner(model(tf_val_data1))\n",
      "    val_prediction2 = softmax_joiner(model(tf_val_data2))\n",
      "    val_prediction3 = softmax_joiner(model(tf_val_data3))\n",
      "    val_prediction4 = softmax_joiner(model(tf_val_data4))\n",
      "    val_prediction5 = softmax_joiner(model(tf_val_data5))\n",
      "    val_prediction6 = softmax_joiner(model(tf_val_data6))\n",
      "    val_prediction7 = softmax_joiner(model(tf_val_data7))\n",
      "    val_prediction8 = softmax_joiner(model(tf_val_data8))\n",
      "    val_prediction9 = softmax_joiner(model(tf_val_data9))\n",
      "    \n",
      "    #PREDICTION FOR TEST DATA\n",
      "    \n",
      "    test_prediction0 = softmax_joiner(model(tf_test_data0))\n",
      "    test_prediction1 = softmax_joiner(model(tf_test_data1))\n",
      "    test_prediction2 = softmax_joiner(model(tf_test_data2))\n",
      "    test_prediction3 = softmax_joiner(model(tf_test_data3))\n",
      "    test_prediction4 = softmax_joiner(model(tf_test_data4))\n",
      "    test_prediction5 = softmax_joiner(model(tf_test_data5))\n",
      "    test_prediction6 = softmax_joiner(model(tf_test_data6))\n",
      "    test_prediction7 = softmax_joiner(model(tf_test_data7))\n",
      "    test_prediction8 = softmax_joiner(model(tf_test_data8))\n",
      "    test_prediction9 = softmax_joiner(model(tf_test_data9))"
     ],
     "language": "python",
     "metadata": {},
     "outputs": [],
     "prompt_number": 31
    },
    {
     "cell_type": "code",
     "collapsed": false,
     "input": [
      "with tf.Session(graph=graph) as sess:\n",
      "    \n",
      "    saver = tf.train.Saver()\n",
      "    saver.restore(sess, \"/home/shilpak/ML_Playground/deep-learning-capstone/model1.ckpt\")\n",
      "    print(\"Model restored.\")\n",
      "    \n",
      "    test_accuracy = (accuracy(test_prediction0.eval(), test_1hot_labels[0 * (FLAGS_test_size/10): 1 * (FLAGS_test_size/10)]) + \\\n",
      "                     accuracy(test_prediction1.eval(), test_1hot_labels[1 * (FLAGS_test_size/10): 2 * (FLAGS_test_size/10)]) + \\\n",
      "                     accuracy(test_prediction2.eval(), test_1hot_labels[2 * (FLAGS_test_size/10): 3 * (FLAGS_test_size/10)]) + \\\n",
      "                     accuracy(test_prediction3.eval(), test_1hot_labels[3 * (FLAGS_test_size/10): 4 * (FLAGS_test_size/10)]) + \\\n",
      "                     accuracy(test_prediction4.eval(), test_1hot_labels[4 * (FLAGS_test_size/10): 5 * (FLAGS_test_size/10)]) + \\\n",
      "                     accuracy(test_prediction5.eval(), test_1hot_labels[5 * (FLAGS_test_size/10): 6 * (FLAGS_test_size/10)]) + \\\n",
      "                     accuracy(test_prediction6.eval(), test_1hot_labels[6 * (FLAGS_test_size/10): 7 * (FLAGS_test_size/10)]) + \\\n",
      "                     accuracy(test_prediction7.eval(), test_1hot_labels[7 * (FLAGS_test_size/10): 8 * (FLAGS_test_size/10)]) + \\\n",
      "                     accuracy(test_prediction8.eval(), test_1hot_labels[8 * (FLAGS_test_size/10): 9 * (FLAGS_test_size/10)]) + \\\n",
      "                     accuracy(test_prediction9.eval(), test_1hot_labels[9 * (FLAGS_test_size/10):10 * (FLAGS_test_size/10)])) / 10.0  \n",
      "    \n",
      "    print(\"\\nTest accuracy without the dropout layers after 100000 steps: %.1f%%\" % test_accuracy)\n",
      "    "
     ],
     "language": "python",
     "metadata": {},
     "outputs": [
      {
       "output_type": "stream",
       "stream": "stdout",
       "text": [
        "Model restored.\n",
        "\n",
        "Test accuracy without the dropout layers after 100000 steps: 63.7%"
       ]
      },
      {
       "output_type": "stream",
       "stream": "stdout",
       "text": [
        "\n"
       ]
      }
     ],
     "prompt_number": 32
    },
    {
     "cell_type": "code",
     "collapsed": false,
     "input": [],
     "language": "python",
     "metadata": {},
     "outputs": []
    }
   ],
   "metadata": {}
  }
 ]
}